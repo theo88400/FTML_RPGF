{
 "cells": [
  {
   "cell_type": "markdown",
   "id": "83147a9d-9f71-41f8-bd13-d4394b89edb5",
   "metadata": {},
   "source": [
    "https://www.kaggle.com/datasets/gauravduttakiit/media-campaign-cost-prediction"
   ]
  }
 ],
 "metadata": {
  "kernelspec": {
   "display_name": "Python 3 (ipykernel)",
   "language": "python",
   "name": "python3"
  },
  "language_info": {
   "codemirror_mode": {
    "name": "ipython",
    "version": 3
   },
   "file_extension": ".py",
   "mimetype": "text/x-python",
   "name": "python",
   "nbconvert_exporter": "python",
   "pygments_lexer": "ipython3",
   "version": "3.10.8"
  }
 },
 "nbformat": 4,
 "nbformat_minor": 5
}
