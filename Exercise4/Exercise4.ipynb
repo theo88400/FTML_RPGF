{
 "cells": [
  {
   "cell_type": "code",
   "execution_count": 1,
   "id": "f475e8e0-c679-4b39-9d0a-b360fd906703",
   "metadata": {},
   "outputs": [
    {
     "name": "stderr",
     "output_type": "stream",
     "text": [
      "/Users/quentinfisch/Documents/EPITA/ING2/SCIA/S8/FTML/FTML_RPGF/.venv/lib/python3.11/site-packages/tqdm/auto.py:21: TqdmWarning: IProgress not found. Please update jupyter and ipywidgets. See https://ipywidgets.readthedocs.io/en/stable/user_install.html\n",
      "  from .autonotebook import tqdm as notebook_tqdm\n"
     ]
    }
   ],
   "source": [
    "import numpy as np\n",
    "import pandas as pd\n",
    "from pathlib import Path\n",
    "from sklearn.linear_model import Lasso, ElasticNet, Ridge\n",
    "from sklearn.model_selection import cross_val_score\n",
    "from sklearn.pipeline import make_pipeline\n",
    "from sklearn.preprocessing import RobustScaler\n",
    "import optuna\n",
    "from sklearn.metrics import (\n",
    "    r2_score,\n",
    "    make_scorer\n",
    ")"
   ]
  },
  {
   "attachments": {},
   "cell_type": "markdown",
   "id": "4c377173-806d-45b8-8efe-c0fd1d6643a6",
   "metadata": {},
   "source": [
    "## Exercise 4: Regression"
   ]
  },
  {
   "cell_type": "code",
   "execution_count": 2,
   "id": "b12dd7cd-b3ca-48b5-9db4-5180dd4773f8",
   "metadata": {},
   "outputs": [],
   "source": [
    "DATA_PATH = Path(\"../data/\")"
   ]
  },
  {
   "cell_type": "code",
   "execution_count": 3,
   "id": "387c606d-fc26-4d22-88c3-5f7cb48c9a93",
   "metadata": {},
   "outputs": [],
   "source": [
    "X_train = np.load(DATA_PATH/\"regression/X_train.npy\")\n",
    "y_train = np.load(DATA_PATH/\"regression/y_train.npy\")\n",
    "X_test = np.load(DATA_PATH/\"regression/X_test.npy\")\n",
    "y_test = np.load(DATA_PATH/\"regression/y_test.npy\")"
   ]
  },
  {
   "cell_type": "code",
   "execution_count": 26,
   "id": "452bffa0",
   "metadata": {},
   "outputs": [
    {
     "data": {
      "text/plain": [
       "(100, 100)"
      ]
     },
     "execution_count": 26,
     "metadata": {},
     "output_type": "execute_result"
    }
   ],
   "source": [
    "X_train.shape"
   ]
  },
  {
   "cell_type": "code",
   "execution_count": 4,
   "id": "8c2551fd-363c-4fdf-858a-432939333407",
   "metadata": {},
   "outputs": [],
   "source": [
    "r2 = make_scorer(r2_score)"
   ]
  },
  {
   "attachments": {},
   "cell_type": "markdown",
   "id": "ffc98179-ca54-40c7-a58e-c0189b447540",
   "metadata": {},
   "source": [
    "### Lasso\n",
    "\n",
    "Firstly, we will use Lasso regression because we are working with few samples (100) and a lot of dimensions (100). As we have seen during the course, Lasso is good fit to such a problem, so let's try see how it performs.\n",
    "\n",
    "The first step is to see how the model performs with default parameters (no hyperparameter tuning). We will use cross-validation to evaluate the model. The random state will be fixed to 0 to have reproducible results. Also, we use a RobustScaler to scale the data as it's a good practice to do so. The choice of RobustScaler has been done empirically, we have tried with StandardScaler and MinMaxScaler but the results were not as good as with RobustScaler. We will not show the results of these tests here for the sake of brevity."
   ]
  },
  {
   "cell_type": "code",
   "execution_count": 40,
   "id": "696bcc64",
   "metadata": {},
   "outputs": [],
   "source": [
    "reg_pipeline = make_pipeline(\n",
    "    RobustScaler(),\n",
    "    Lasso(alpha=0.001, random_state=0)  # let's use a small alpha value as a baseline\n",
    ")"
   ]
  },
  {
   "cell_type": "code",
   "execution_count": 41,
   "id": "72daa844",
   "metadata": {},
   "outputs": [
    {
     "name": "stdout",
     "output_type": "stream",
     "text": [
      "Cross-validation score: 0.5768188701521931\n"
     ]
    }
   ],
   "source": [
    "scores = cross_val_score(reg_pipeline, X_train, y_train, cv=5, scoring=r2)\n",
    "print(f\"Cross-validation score: {np.mean(scores)}\")"
   ]
  },
  {
   "cell_type": "code",
   "execution_count": 42,
   "id": "d333e19c",
   "metadata": {},
   "outputs": [
    {
     "name": "stdout",
     "output_type": "stream",
     "text": [
      "Test score: 0.6695160578998104\n"
     ]
    }
   ],
   "source": [
    "reg_pipeline.fit(X_train, y_train)\n",
    "preds = reg_pipeline.predict(X_test)\n",
    "print(f\"Test score: {r2_score(y_test, preds)}\")"
   ]
  },
  {
   "attachments": {},
   "cell_type": "markdown",
   "id": "78d58d69",
   "metadata": {},
   "source": [
    "The score on the test set is `0.669`, which is decent, but we can surely do better.\n",
    "\n",
    "Now, we will use Optuna to find the best hyperparameters for our model"
   ]
  },
  {
   "cell_type": "code",
   "execution_count": 31,
   "id": "769589cb-bd06-4b01-81e1-1142b7199996",
   "metadata": {},
   "outputs": [
    {
     "name": "stderr",
     "output_type": "stream",
     "text": [
      "[I 2023-06-19 10:20:27,005] A new study created in memory with name: no-name-ae0703b5-e0be-443d-9659-bac7b48ff908\n",
      "[I 2023-06-19 10:20:27,813] Trial 0 finished with value: -0.09421908554927114 and parameters: {'alpha': 0.9240365338057458}. Best is trial 0 with value: -0.09421908554927114.\n",
      "[I 2023-06-19 10:20:28,065] Trial 1 finished with value: 0.8427808614646327 and parameters: {'alpha': 0.044760968030146175}. Best is trial 1 with value: 0.8427808614646327.\n",
      "[I 2023-06-19 10:20:28,311] Trial 2 finished with value: -0.09421908554927114 and parameters: {'alpha': 0.785369871508585}. Best is trial 1 with value: 0.8427808614646327.\n",
      "[I 2023-06-19 10:20:28,325] Trial 3 finished with value: 0.148268223481041 and parameters: {'alpha': 0.16219048504681532}. Best is trial 1 with value: 0.8427808614646327.\n",
      "[I 2023-06-19 10:20:28,336] Trial 4 finished with value: 0.45208885301285545 and parameters: {'alpha': 0.12398050591117749}. Best is trial 1 with value: 0.8427808614646327.\n",
      "[I 2023-06-19 10:20:28,348] Trial 5 finished with value: -0.09421908554927114 and parameters: {'alpha': 0.7753880342136438}. Best is trial 1 with value: 0.8427808614646327.\n",
      "[I 2023-06-19 10:20:28,361] Trial 6 finished with value: -0.09421908554927114 and parameters: {'alpha': 0.3421268205594935}. Best is trial 1 with value: 0.8427808614646327.\n",
      "[I 2023-06-19 10:20:28,374] Trial 7 finished with value: -0.09421908554927114 and parameters: {'alpha': 0.37637744989410993}. Best is trial 1 with value: 0.8427808614646327.\n",
      "[I 2023-06-19 10:20:28,386] Trial 8 finished with value: -0.09421908554927114 and parameters: {'alpha': 0.3714789970776663}. Best is trial 1 with value: 0.8427808614646327.\n",
      "[I 2023-06-19 10:20:28,409] Trial 9 finished with value: -0.09421908554927114 and parameters: {'alpha': 0.4672678673027285}. Best is trial 1 with value: 0.8427808614646327.\n",
      "[I 2023-06-19 10:20:28,437] Trial 10 finished with value: 0.7892446161222774 and parameters: {'alpha': 0.003957941795133438}. Best is trial 1 with value: 0.8427808614646327.\n",
      "[I 2023-06-19 10:20:28,452] Trial 11 finished with value: 0.8746229094484634 and parameters: {'alpha': 0.02256320961712136}. Best is trial 11 with value: 0.8746229094484634.\n",
      "[I 2023-06-19 10:20:28,721] Trial 12 finished with value: 0.840287310724845 and parameters: {'alpha': 0.006659529864228603}. Best is trial 11 with value: 0.8746229094484634.\n",
      "[I 2023-06-19 10:20:28,744] Trial 13 finished with value: -0.00816851258750142 and parameters: {'alpha': 0.19472406200385656}. Best is trial 11 with value: 0.8746229094484634.\n",
      "[I 2023-06-19 10:20:28,758] Trial 14 finished with value: -0.06739706739158391 and parameters: {'alpha': 0.21530487855688515}. Best is trial 11 with value: 0.8746229094484634.\n",
      "[I 2023-06-19 10:20:28,771] Trial 15 finished with value: 0.8763777330049815 and parameters: {'alpha': 0.020232296806498618}. Best is trial 15 with value: 0.8763777330049815.\n",
      "[I 2023-06-19 10:20:28,785] Trial 16 finished with value: -0.09421908554927114 and parameters: {'alpha': 0.2616814795010548}. Best is trial 15 with value: 0.8763777330049815.\n",
      "[I 2023-06-19 10:20:28,799] Trial 17 finished with value: 0.6945994191990996 and parameters: {'alpha': 0.08439061300785332}. Best is trial 15 with value: 0.8763777330049815.\n",
      "[I 2023-06-19 10:20:28,812] Trial 18 finished with value: 0.4322367976748508 and parameters: {'alpha': 0.12666379644587358}. Best is trial 15 with value: 0.8763777330049815.\n",
      "[I 2023-06-19 10:20:28,827] Trial 19 finished with value: -0.09421908554927114 and parameters: {'alpha': 0.24717115897673073}. Best is trial 15 with value: 0.8763777330049815.\n",
      "[I 2023-06-19 10:20:28,841] Trial 20 finished with value: 0.6628228239592302 and parameters: {'alpha': 0.09059654908247049}. Best is trial 15 with value: 0.8763777330049815.\n",
      "[I 2023-06-19 10:20:28,854] Trial 21 finished with value: 0.8642498210570292 and parameters: {'alpha': 0.03274766920052807}. Best is trial 15 with value: 0.8763777330049815.\n",
      "[I 2023-06-19 10:20:28,868] Trial 22 finished with value: 0.8746079999280807 and parameters: {'alpha': 0.022582733323656616}. Best is trial 15 with value: 0.8763777330049815.\n",
      "[I 2023-06-19 10:20:28,882] Trial 23 finished with value: 0.355862019618258 and parameters: {'alpha': 0.13648695997598534}. Best is trial 15 with value: 0.8763777330049815.\n",
      "[I 2023-06-19 10:20:28,897] Trial 24 finished with value: 0.7281030808632125 and parameters: {'alpha': 0.0025834372560634596}. Best is trial 15 with value: 0.8763777330049815.\n",
      "[I 2023-06-19 10:20:28,911] Trial 25 finished with value: 0.6634657847018832 and parameters: {'alpha': 0.09047531726216262}. Best is trial 15 with value: 0.8763777330049815.\n",
      "[I 2023-06-19 10:20:28,925] Trial 26 finished with value: -0.09421908554927114 and parameters: {'alpha': 0.2788818714812493}. Best is trial 15 with value: 0.8763777330049815.\n",
      "[I 2023-06-19 10:20:28,939] Trial 27 finished with value: 0.06184838541967066 and parameters: {'alpha': 0.17799341561917892}. Best is trial 15 with value: 0.8763777330049815.\n",
      "[I 2023-06-19 10:20:28,955] Trial 28 finished with value: 0.7448711501224421 and parameters: {'alpha': 0.07347338443677531}. Best is trial 15 with value: 0.8763777330049815.\n",
      "[I 2023-06-19 10:20:28,970] Trial 29 finished with value: 0.17510282206370364 and parameters: {'alpha': 0.15874565000990185}. Best is trial 15 with value: 0.8763777330049815.\n",
      "[I 2023-06-19 10:20:28,985] Trial 30 finished with value: 0.7484488370783678 and parameters: {'alpha': 0.07263172072276611}. Best is trial 15 with value: 0.8763777330049815.\n",
      "[I 2023-06-19 10:20:29,004] Trial 31 finished with value: 0.8765274387098417 and parameters: {'alpha': 0.019981777678837926}. Best is trial 31 with value: 0.8765274387098417.\n",
      "[I 2023-06-19 10:20:29,019] Trial 32 finished with value: 0.8323078122574792 and parameters: {'alpha': 0.04870601713368045}. Best is trial 31 with value: 0.8765274387098417.\n",
      "[I 2023-06-19 10:20:29,034] Trial 33 finished with value: 0.8759055093671957 and parameters: {'alpha': 0.020969177145845078}. Best is trial 31 with value: 0.8765274387098417.\n",
      "[I 2023-06-19 10:20:29,047] Trial 34 finished with value: 0.006760146630749531 and parameters: {'alpha': 0.1909361090237346}. Best is trial 31 with value: 0.8765274387098417.\n",
      "[I 2023-06-19 10:20:29,061] Trial 35 finished with value: 0.48201994706290774 and parameters: {'alpha': 0.11981896021900543}. Best is trial 31 with value: 0.8765274387098417.\n",
      "[I 2023-06-19 10:20:29,073] Trial 36 finished with value: 0.7958876805770363 and parameters: {'alpha': 0.060325307174681375}. Best is trial 31 with value: 0.8765274387098417.\n",
      "[I 2023-06-19 10:20:29,086] Trial 37 finished with value: 0.16134468282330336 and parameters: {'alpha': 0.16052066487149386}. Best is trial 31 with value: 0.8765274387098417.\n",
      "[I 2023-06-19 10:20:29,101] Trial 38 finished with value: 0.6968618381090066 and parameters: {'alpha': 0.00207845665821893}. Best is trial 31 with value: 0.8765274387098417.\n",
      "[I 2023-06-19 10:20:29,114] Trial 39 finished with value: 0.40679852379495446 and parameters: {'alpha': 0.13001966390901756}. Best is trial 31 with value: 0.8765274387098417.\n",
      "[I 2023-06-19 10:20:29,128] Trial 40 finished with value: -0.09421908554927114 and parameters: {'alpha': 0.6005395123376861}. Best is trial 31 with value: 0.8765274387098417.\n",
      "[I 2023-06-19 10:20:29,141] Trial 41 finished with value: 0.8120731479341174 and parameters: {'alpha': 0.05547695647394579}. Best is trial 31 with value: 0.8765274387098417.\n",
      "[I 2023-06-19 10:20:29,154] Trial 42 finished with value: 0.6070198242297671 and parameters: {'alpha': 0.10054913346734767}. Best is trial 31 with value: 0.8765274387098417.\n",
      "[I 2023-06-19 10:20:29,168] Trial 43 finished with value: 0.8509149407482225 and parameters: {'alpha': 0.041073844557916114}. Best is trial 31 with value: 0.8765274387098417.\n",
      "[I 2023-06-19 10:20:29,181] Trial 44 finished with value: 0.8603109795131132 and parameters: {'alpha': 0.03567891731966144}. Best is trial 31 with value: 0.8765274387098417.\n",
      "[I 2023-06-19 10:20:29,194] Trial 45 finished with value: -0.07234228142075191 and parameters: {'alpha': 0.2180952730173567}. Best is trial 31 with value: 0.8765274387098417.\n",
      "[I 2023-06-19 10:20:29,209] Trial 46 finished with value: 0.46238154841597545 and parameters: {'alpha': 0.1225657036498783}. Best is trial 31 with value: 0.8765274387098417.\n",
      "[I 2023-06-19 10:20:29,222] Trial 47 finished with value: 0.8718965604077269 and parameters: {'alpha': 0.025415712440996826}. Best is trial 31 with value: 0.8765274387098417.\n",
      "[I 2023-06-19 10:20:29,243] Trial 48 finished with value: 0.4143380933377642 and parameters: {'alpha': 0.00034831164407294127}. Best is trial 31 with value: 0.8765274387098417.\n",
      "[I 2023-06-19 10:20:29,257] Trial 49 finished with value: 0.2363832581889282 and parameters: {'alpha': 0.15063127235292373}. Best is trial 31 with value: 0.8765274387098417.\n",
      "[I 2023-06-19 10:20:29,268] Trial 50 finished with value: 0.6439144006042514 and parameters: {'alpha': 0.09409008398237995}. Best is trial 31 with value: 0.8765274387098417.\n",
      "[I 2023-06-19 10:20:29,281] Trial 51 finished with value: 0.8737380169410937 and parameters: {'alpha': 0.023634038121190904}. Best is trial 31 with value: 0.8765274387098417.\n",
      "[I 2023-06-19 10:20:29,293] Trial 52 finished with value: 0.8321759754300931 and parameters: {'alpha': 0.04875333847088504}. Best is trial 31 with value: 0.8765274387098417.\n",
      "[I 2023-06-19 10:20:29,306] Trial 53 finished with value: 0.6976410790724318 and parameters: {'alpha': 0.08377174307907041}. Best is trial 31 with value: 0.8765274387098417.\n",
      "[I 2023-06-19 10:20:29,320] Trial 54 finished with value: 0.8457569789088832 and parameters: {'alpha': 0.007324522159653322}. Best is trial 31 with value: 0.8765274387098417.\n",
      "[I 2023-06-19 10:20:29,333] Trial 55 finished with value: 0.8283031650397417 and parameters: {'alpha': 0.05012247997234454}. Best is trial 31 with value: 0.8765274387098417.\n",
      "[I 2023-06-19 10:20:29,346] Trial 56 finished with value: 0.5990036482655146 and parameters: {'alpha': 0.10189703753862549}. Best is trial 31 with value: 0.8765274387098417.\n",
      "[I 2023-06-19 10:20:29,359] Trial 57 finished with value: 0.14246407761103486 and parameters: {'alpha': 0.16292640099865838}. Best is trial 31 with value: 0.8765274387098417.\n",
      "[I 2023-06-19 10:20:29,371] Trial 58 finished with value: -0.08060974328041932 and parameters: {'alpha': 0.22648259120599154}. Best is trial 31 with value: 0.8765274387098417.\n",
      "[I 2023-06-19 10:20:29,384] Trial 59 finished with value: 0.8682542081583469 and parameters: {'alpha': 0.029028813432729388}. Best is trial 31 with value: 0.8765274387098417.\n",
      "[I 2023-06-19 10:20:29,398] Trial 60 finished with value: -0.09421908554927114 and parameters: {'alpha': 0.2925493844436834}. Best is trial 31 with value: 0.8765274387098417.\n",
      "[I 2023-06-19 10:20:29,411] Trial 61 finished with value: 0.876281251569839 and parameters: {'alpha': 0.020386711525990184}. Best is trial 31 with value: 0.8765274387098417.\n",
      "[I 2023-06-19 10:20:29,425] Trial 62 finished with value: 0.7510162105404559 and parameters: {'alpha': 0.07202135801012557}. Best is trial 31 with value: 0.8765274387098417.\n",
      "[I 2023-06-19 10:20:29,439] Trial 63 finished with value: 0.43509345147908274 and parameters: {'alpha': 0.12628126054168504}. Best is trial 31 with value: 0.8765274387098417.\n",
      "[I 2023-06-19 10:20:29,452] Trial 64 finished with value: 0.8737012655085434 and parameters: {'alpha': 0.02367521189959205}. Best is trial 31 with value: 0.8765274387098417.\n",
      "[I 2023-06-19 10:20:29,465] Trial 65 finished with value: 0.7595145001876765 and parameters: {'alpha': 0.06996197937913223}. Best is trial 31 with value: 0.8765274387098417.\n",
      "[I 2023-06-19 10:20:29,478] Trial 66 finished with value: 0.04531773295668114 and parameters: {'alpha': 0.181435160925856}. Best is trial 31 with value: 0.8765274387098417.\n",
      "[I 2023-06-19 10:20:29,491] Trial 67 finished with value: 0.567280910443169 and parameters: {'alpha': 0.10706078812890225}. Best is trial 31 with value: 0.8765274387098417.\n",
      "[I 2023-06-19 10:20:29,507] Trial 68 finished with value: 0.5974827343415595 and parameters: {'alpha': 0.0011410013730692309}. Best is trial 31 with value: 0.8765274387098417.\n",
      "[I 2023-06-19 10:20:29,519] Trial 69 finished with value: 0.3146383092810625 and parameters: {'alpha': 0.14150096484867167}. Best is trial 31 with value: 0.8765274387098417.\n",
      "[I 2023-06-19 10:20:29,533] Trial 70 finished with value: 0.7684022219974717 and parameters: {'alpha': 0.06773876016496069}. Best is trial 31 with value: 0.8765274387098417.\n",
      "[I 2023-06-19 10:20:29,546] Trial 71 finished with value: 0.8711670129128043 and parameters: {'alpha': 0.025994552955048666}. Best is trial 31 with value: 0.8765274387098417.\n",
      "[I 2023-06-19 10:20:29,560] Trial 72 finished with value: 0.8672783668631319 and parameters: {'alpha': 0.030063555488497824}. Best is trial 31 with value: 0.8765274387098417.\n",
      "[I 2023-06-19 10:20:29,573] Trial 73 finished with value: 0.7891018480111706 and parameters: {'alpha': 0.062241078558900376}. Best is trial 31 with value: 0.8765274387098417.\n",
      "[I 2023-06-19 10:20:29,586] Trial 74 finished with value: 0.6133834959896495 and parameters: {'alpha': 0.09946575907059121}. Best is trial 31 with value: 0.8765274387098417.\n",
      "[I 2023-06-19 10:20:29,599] Trial 75 finished with value: 0.850931923093715 and parameters: {'alpha': 0.04106524098116923}. Best is trial 31 with value: 0.8765274387098417.\n",
      "[I 2023-06-19 10:20:29,614] Trial 76 finished with value: 0.8754545184285407 and parameters: {'alpha': 0.02153713875413729}. Best is trial 31 with value: 0.8765274387098417.\n",
      "[I 2023-06-19 10:20:29,628] Trial 77 finished with value: 0.6893586391769044 and parameters: {'alpha': 0.08544609917306312}. Best is trial 31 with value: 0.8765274387098417.\n",
      "[I 2023-06-19 10:20:29,641] Trial 78 finished with value: 0.4990363975963499 and parameters: {'alpha': 0.11738586216390234}. Best is trial 31 with value: 0.8765274387098417.\n",
      "[I 2023-06-19 10:20:29,655] Trial 79 finished with value: 0.774885573042126 and parameters: {'alpha': 0.0035870267657168997}. Best is trial 31 with value: 0.8765274387098417.\n",
      "[I 2023-06-19 10:20:29,667] Trial 80 finished with value: 0.8193725305552316 and parameters: {'alpha': 0.053138865406258284}. Best is trial 31 with value: 0.8765274387098417.\n",
      "[I 2023-06-19 10:20:29,681] Trial 81 finished with value: 0.8721689587856108 and parameters: {'alpha': 0.02519034567696043}. Best is trial 31 with value: 0.8765274387098417.\n",
      "[I 2023-06-19 10:20:29,694] Trial 82 finished with value: 0.8741826788228184 and parameters: {'alpha': 0.02311657913905793}. Best is trial 31 with value: 0.8765274387098417.\n",
      "[I 2023-06-19 10:20:29,707] Trial 83 finished with value: 0.771523212602187 and parameters: {'alpha': 0.06693987635324869}. Best is trial 31 with value: 0.8765274387098417.\n",
      "[I 2023-06-19 10:20:29,720] Trial 84 finished with value: 0.6774235144754212 and parameters: {'alpha': 0.08780111225123632}. Best is trial 31 with value: 0.8765274387098417.\n",
      "[I 2023-06-19 10:20:29,733] Trial 85 finished with value: 0.29372133373701376 and parameters: {'alpha': 0.14397715469315858}. Best is trial 31 with value: 0.8765274387098417.\n",
      "[I 2023-06-19 10:20:29,747] Trial 86 finished with value: 0.8767957319469628 and parameters: {'alpha': 0.01929231606254076}. Best is trial 86 with value: 0.8767957319469628.\n",
      "[I 2023-06-19 10:20:29,762] Trial 87 finished with value: 0.8261721376928817 and parameters: {'alpha': 0.05085933611495645}. Best is trial 86 with value: 0.8767957319469628.\n",
      "[I 2023-06-19 10:20:29,776] Trial 88 finished with value: 0.7038612137528063 and parameters: {'alpha': 0.0021709329913635646}. Best is trial 86 with value: 0.8767957319469628.\n",
      "[I 2023-06-19 10:20:29,789] Trial 89 finished with value: 0.5970266860648584 and parameters: {'alpha': 0.10222666026664053}. Best is trial 86 with value: 0.8767957319469628.\n",
      "[I 2023-06-19 10:20:29,801] Trial 90 finished with value: 0.8453011525866916 and parameters: {'alpha': 0.04369555378054463}. Best is trial 86 with value: 0.8767957319469628.\n",
      "[I 2023-06-19 10:20:29,815] Trial 91 finished with value: 0.8770698021132475 and parameters: {'alpha': 0.016771409178037867}. Best is trial 91 with value: 0.8770698021132475.\n",
      "[I 2023-06-19 10:20:29,828] Trial 92 finished with value: 0.8735640359437797 and parameters: {'alpha': 0.023824918514722727}. Best is trial 91 with value: 0.8770698021132475.\n",
      "[I 2023-06-19 10:20:29,841] Trial 93 finished with value: 0.7155464957442488 and parameters: {'alpha': 0.08002860188513392}. Best is trial 91 with value: 0.8770698021132475.\n",
      "[I 2023-06-19 10:20:29,854] Trial 94 finished with value: 0.8316788188783061 and parameters: {'alpha': 0.04893135366197157}. Best is trial 91 with value: 0.8770698021132475.\n",
      "[I 2023-06-19 10:20:29,868] Trial 95 finished with value: 0.877104904106304 and parameters: {'alpha': 0.01732009415547434}. Best is trial 95 with value: 0.877104904106304.\n",
      "[I 2023-06-19 10:20:29,882] Trial 96 finished with value: 0.5392558424117077 and parameters: {'alpha': 0.11141931637042182}. Best is trial 95 with value: 0.877104904106304.\n",
      "[I 2023-06-19 10:20:29,897] Trial 97 finished with value: 0.6892156781462082 and parameters: {'alpha': 0.0019852442660064466}. Best is trial 95 with value: 0.877104904106304.\n",
      "[I 2023-06-19 10:20:29,910] Trial 98 finished with value: 0.7556239610163873 and parameters: {'alpha': 0.07091245877705701}. Best is trial 95 with value: 0.877104904106304.\n",
      "[I 2023-06-19 10:20:29,924] Trial 99 finished with value: 0.3563929182922722 and parameters: {'alpha': 0.13642116317292893}. Best is trial 95 with value: 0.877104904106304.\n"
     ]
    }
   ],
   "source": [
    "def objective(trial):\n",
    "    alpha = trial.suggest_float(\"alpha\", 0, 1)\n",
    "    \n",
    "    reg_pipeline = make_pipeline(\n",
    "        RobustScaler(),\n",
    "        Lasso(alpha=alpha, random_state=0)\n",
    "    )\n",
    "    \n",
    "    scores = cross_val_score(reg_pipeline, X=X_train, y=y_train, cv=5, n_jobs=-1, scoring=r2)\n",
    "    return np.mean(scores)\n",
    "    \n",
    "study = optuna.create_study(direction='maximize')\n",
    "study.optimize(objective, n_trials=100)"
   ]
  },
  {
   "cell_type": "code",
   "execution_count": null,
   "id": "0bfcd91b-52f4-4646-90b1-5555d5ff0b09",
   "metadata": {},
   "outputs": [],
   "source": [
    "fig = optuna.visualization.plot_optimization_history(study)\n",
    "fig.show()"
   ]
  },
  {
   "cell_type": "code",
   "execution_count": 33,
   "id": "9c93d815-dd1b-4304-a871-1da1ac3f2d89",
   "metadata": {},
   "outputs": [],
   "source": [
    "reg_pipeline = make_pipeline(\n",
    "    RobustScaler(),\n",
    "    Lasso(alpha=study.best_params[\"alpha\"], random_state=0)\n",
    ")"
   ]
  },
  {
   "cell_type": "code",
   "execution_count": 34,
   "id": "666446f0-b22f-437f-8090-5ff3f41c9bc0",
   "metadata": {},
   "outputs": [
    {
     "data": {
      "text/html": [
       "<style>#sk-container-id-2 {color: black;background-color: white;}#sk-container-id-2 pre{padding: 0;}#sk-container-id-2 div.sk-toggleable {background-color: white;}#sk-container-id-2 label.sk-toggleable__label {cursor: pointer;display: block;width: 100%;margin-bottom: 0;padding: 0.3em;box-sizing: border-box;text-align: center;}#sk-container-id-2 label.sk-toggleable__label-arrow:before {content: \"▸\";float: left;margin-right: 0.25em;color: #696969;}#sk-container-id-2 label.sk-toggleable__label-arrow:hover:before {color: black;}#sk-container-id-2 div.sk-estimator:hover label.sk-toggleable__label-arrow:before {color: black;}#sk-container-id-2 div.sk-toggleable__content {max-height: 0;max-width: 0;overflow: hidden;text-align: left;background-color: #f0f8ff;}#sk-container-id-2 div.sk-toggleable__content pre {margin: 0.2em;color: black;border-radius: 0.25em;background-color: #f0f8ff;}#sk-container-id-2 input.sk-toggleable__control:checked~div.sk-toggleable__content {max-height: 200px;max-width: 100%;overflow: auto;}#sk-container-id-2 input.sk-toggleable__control:checked~label.sk-toggleable__label-arrow:before {content: \"▾\";}#sk-container-id-2 div.sk-estimator input.sk-toggleable__control:checked~label.sk-toggleable__label {background-color: #d4ebff;}#sk-container-id-2 div.sk-label input.sk-toggleable__control:checked~label.sk-toggleable__label {background-color: #d4ebff;}#sk-container-id-2 input.sk-hidden--visually {border: 0;clip: rect(1px 1px 1px 1px);clip: rect(1px, 1px, 1px, 1px);height: 1px;margin: -1px;overflow: hidden;padding: 0;position: absolute;width: 1px;}#sk-container-id-2 div.sk-estimator {font-family: monospace;background-color: #f0f8ff;border: 1px dotted black;border-radius: 0.25em;box-sizing: border-box;margin-bottom: 0.5em;}#sk-container-id-2 div.sk-estimator:hover {background-color: #d4ebff;}#sk-container-id-2 div.sk-parallel-item::after {content: \"\";width: 100%;border-bottom: 1px solid gray;flex-grow: 1;}#sk-container-id-2 div.sk-label:hover label.sk-toggleable__label {background-color: #d4ebff;}#sk-container-id-2 div.sk-serial::before {content: \"\";position: absolute;border-left: 1px solid gray;box-sizing: border-box;top: 0;bottom: 0;left: 50%;z-index: 0;}#sk-container-id-2 div.sk-serial {display: flex;flex-direction: column;align-items: center;background-color: white;padding-right: 0.2em;padding-left: 0.2em;position: relative;}#sk-container-id-2 div.sk-item {position: relative;z-index: 1;}#sk-container-id-2 div.sk-parallel {display: flex;align-items: stretch;justify-content: center;background-color: white;position: relative;}#sk-container-id-2 div.sk-item::before, #sk-container-id-2 div.sk-parallel-item::before {content: \"\";position: absolute;border-left: 1px solid gray;box-sizing: border-box;top: 0;bottom: 0;left: 50%;z-index: -1;}#sk-container-id-2 div.sk-parallel-item {display: flex;flex-direction: column;z-index: 1;position: relative;background-color: white;}#sk-container-id-2 div.sk-parallel-item:first-child::after {align-self: flex-end;width: 50%;}#sk-container-id-2 div.sk-parallel-item:last-child::after {align-self: flex-start;width: 50%;}#sk-container-id-2 div.sk-parallel-item:only-child::after {width: 0;}#sk-container-id-2 div.sk-dashed-wrapped {border: 1px dashed gray;margin: 0 0.4em 0.5em 0.4em;box-sizing: border-box;padding-bottom: 0.4em;background-color: white;}#sk-container-id-2 div.sk-label label {font-family: monospace;font-weight: bold;display: inline-block;line-height: 1.2em;}#sk-container-id-2 div.sk-label-container {text-align: center;}#sk-container-id-2 div.sk-container {/* jupyter's `normalize.less` sets `[hidden] { display: none; }` but bootstrap.min.css set `[hidden] { display: none !important; }` so we also need the `!important` here to be able to override the default hidden behavior on the sphinx rendered scikit-learn.org. See: https://github.com/scikit-learn/scikit-learn/issues/21755 */display: inline-block !important;position: relative;}#sk-container-id-2 div.sk-text-repr-fallback {display: none;}</style><div id=\"sk-container-id-2\" class=\"sk-top-container\"><div class=\"sk-text-repr-fallback\"><pre>Pipeline(steps=[(&#x27;robustscaler&#x27;, RobustScaler()),\n",
       "                (&#x27;lasso&#x27;, Lasso(alpha=0.01732009415547434, random_state=0))])</pre><b>In a Jupyter environment, please rerun this cell to show the HTML representation or trust the notebook. <br />On GitHub, the HTML representation is unable to render, please try loading this page with nbviewer.org.</b></div><div class=\"sk-container\" hidden><div class=\"sk-item sk-dashed-wrapped\"><div class=\"sk-label-container\"><div class=\"sk-label sk-toggleable\"><input class=\"sk-toggleable__control sk-hidden--visually\" id=\"sk-estimator-id-4\" type=\"checkbox\" ><label for=\"sk-estimator-id-4\" class=\"sk-toggleable__label sk-toggleable__label-arrow\">Pipeline</label><div class=\"sk-toggleable__content\"><pre>Pipeline(steps=[(&#x27;robustscaler&#x27;, RobustScaler()),\n",
       "                (&#x27;lasso&#x27;, Lasso(alpha=0.01732009415547434, random_state=0))])</pre></div></div></div><div class=\"sk-serial\"><div class=\"sk-item\"><div class=\"sk-estimator sk-toggleable\"><input class=\"sk-toggleable__control sk-hidden--visually\" id=\"sk-estimator-id-5\" type=\"checkbox\" ><label for=\"sk-estimator-id-5\" class=\"sk-toggleable__label sk-toggleable__label-arrow\">RobustScaler</label><div class=\"sk-toggleable__content\"><pre>RobustScaler()</pre></div></div></div><div class=\"sk-item\"><div class=\"sk-estimator sk-toggleable\"><input class=\"sk-toggleable__control sk-hidden--visually\" id=\"sk-estimator-id-6\" type=\"checkbox\" ><label for=\"sk-estimator-id-6\" class=\"sk-toggleable__label sk-toggleable__label-arrow\">Lasso</label><div class=\"sk-toggleable__content\"><pre>Lasso(alpha=0.01732009415547434, random_state=0)</pre></div></div></div></div></div></div></div>"
      ],
      "text/plain": [
       "Pipeline(steps=[('robustscaler', RobustScaler()),\n",
       "                ('lasso', Lasso(alpha=0.01732009415547434, random_state=0))])"
      ]
     },
     "execution_count": 34,
     "metadata": {},
     "output_type": "execute_result"
    }
   ],
   "source": [
    "reg_pipeline.fit(X_train, y_train)"
   ]
  },
  {
   "cell_type": "code",
   "execution_count": 35,
   "id": "dccbd8fc-75c0-42a1-9067-c98c8694869f",
   "metadata": {},
   "outputs": [],
   "source": [
    "preds = reg_pipeline.predict(X_test)"
   ]
  },
  {
   "cell_type": "code",
   "execution_count": 36,
   "id": "aba3b5d3-a3f9-400e-a1fe-82392fb82778",
   "metadata": {},
   "outputs": [
    {
     "data": {
      "text/plain": [
       "0.8879002343301418"
      ]
     },
     "execution_count": 36,
     "metadata": {},
     "output_type": "execute_result"
    }
   ],
   "source": [
    "r2_score(y_test, preds)"
   ]
  },
  {
   "cell_type": "code",
   "execution_count": 37,
   "id": "01e824e3",
   "metadata": {},
   "outputs": [
    {
     "data": {
      "text/plain": [
       "0.01732009415547434"
      ]
     },
     "execution_count": 37,
     "metadata": {},
     "output_type": "execute_result"
    }
   ],
   "source": [
    "study.best_params[\"alpha\"]"
   ]
  },
  {
   "attachments": {},
   "cell_type": "markdown",
   "id": "ee7df59c",
   "metadata": {},
   "source": [
    "We obtain a score of `0.888` on the test set when using $\\alpha=0.0173$, which breaks the score of 0.84 we had to beat.\n",
    "\n",
    "### ElasticNet\n",
    "\n",
    "Let's compare Lasso with ElasticNet. We will go through the same steps as before, meaning we will first use default parameters, then use Optuna to find the best hyperparameters."
   ]
  },
  {
   "cell_type": "code",
   "execution_count": 38,
   "id": "ba90c9f5",
   "metadata": {},
   "outputs": [],
   "source": [
    "elasticnet_pipeline = make_pipeline(\n",
    "    RobustScaler(),\n",
    "    ElasticNet(alpha=0.001, l1_ratio=0.5, random_state=0)\n",
    ")"
   ]
  },
  {
   "cell_type": "code",
   "execution_count": 39,
   "id": "4aa91eff",
   "metadata": {},
   "outputs": [
    {
     "name": "stdout",
     "output_type": "stream",
     "text": [
      "Cross-validation score: 0.4797631802400579\n"
     ]
    }
   ],
   "source": [
    "scores = cross_val_score(elasticnet_pipeline, X_train, y_train, cv=5, scoring=r2)\n",
    "print(f\"Cross-validation score: {np.mean(scores)}\")"
   ]
  },
  {
   "cell_type": "code",
   "execution_count": 43,
   "id": "87ab9730",
   "metadata": {},
   "outputs": [
    {
     "name": "stdout",
     "output_type": "stream",
     "text": [
      "Test score: 0.47618853099249825\n"
     ]
    }
   ],
   "source": [
    "elasticnet_pipeline.fit(X_train, y_train)\n",
    "preds = elasticnet_pipeline.predict(X_test)\n",
    "print(f\"Test score: {r2_score(y_test, preds)}\")"
   ]
  },
  {
   "attachments": {},
   "cell_type": "markdown",
   "id": "91090622",
   "metadata": {},
   "source": [
    "We get a score of `0.476`, which is worse than Lasso with default parameters. Let's see if we can do better with Optuna."
   ]
  },
  {
   "cell_type": "code",
   "execution_count": 50,
   "id": "eb7f3ffc",
   "metadata": {},
   "outputs": [
    {
     "name": "stderr",
     "output_type": "stream",
     "text": [
      "[I 2023-06-19 10:31:26,390] A new study created in memory with name: no-name-d983a317-8948-4b2d-a978-613a9fc5df9a\n",
      "[I 2023-06-19 10:31:26,422] Trial 0 finished with value: 0.8694273524778822 and parameters: {'alpha': 0.029429479931544655, 'l1_ratio': 0.7880147131849551}. Best is trial 0 with value: 0.8694273524778822.\n",
      "[I 2023-06-19 10:31:26,439] Trial 1 finished with value: -0.08987732956146344 and parameters: {'alpha': 0.26952761067480946, 'l1_ratio': 0.8806677990998693}. Best is trial 0 with value: 0.8694273524778822.\n",
      "[I 2023-06-19 10:31:26,452] Trial 2 finished with value: 0.46215917995926203 and parameters: {'alpha': 0.3192460929789812, 'l1_ratio': 0.27580457715177653}. Best is trial 0 with value: 0.8694273524778822.\n",
      "[I 2023-06-19 10:31:26,467] Trial 3 finished with value: -0.09421908554927114 and parameters: {'alpha': 0.34838617610248457, 'l1_ratio': 0.7938001406362594}. Best is trial 0 with value: 0.8694273524778822.\n",
      "[I 2023-06-19 10:31:26,493] Trial 4 finished with value: 0.45943481313505624 and parameters: {'alpha': 0.49641795765925056, 'l1_ratio': 0.08509427261904634}. Best is trial 0 with value: 0.8694273524778822.\n",
      "[I 2023-06-19 10:31:26,512] Trial 5 finished with value: 0.25754649158740256 and parameters: {'alpha': 0.4872966953545562, 'l1_ratio': 0.24201083026355408}. Best is trial 0 with value: 0.8694273524778822.\n",
      "[I 2023-06-19 10:31:26,526] Trial 6 finished with value: 0.5073599702093994 and parameters: {'alpha': 0.32946169771363365, 'l1_ratio': 0.21938183911513431}. Best is trial 0 with value: 0.8694273524778822.\n",
      "[I 2023-06-19 10:31:26,545] Trial 7 finished with value: 0.2731349433451789 and parameters: {'alpha': 0.6200928106716627, 'l1_ratio': 0.1613748351686034}. Best is trial 0 with value: 0.8694273524778822.\n",
      "[I 2023-06-19 10:31:26,557] Trial 8 finished with value: 0.20396712369140474 and parameters: {'alpha': 0.15745557039081481, 'l1_ratio': 0.98302609272642}. Best is trial 0 with value: 0.8694273524778822.\n",
      "[I 2023-06-19 10:31:26,573] Trial 9 finished with value: -0.09421908554927114 and parameters: {'alpha': 0.7388335943134093, 'l1_ratio': 0.3969847595813629}. Best is trial 0 with value: 0.8694273524778822.\n",
      "[I 2023-06-19 10:31:26,588] Trial 10 finished with value: 0.871547833268334 and parameters: {'alpha': 0.026061948216746466, 'l1_ratio': 0.6403654374618928}. Best is trial 10 with value: 0.871547833268334.\n",
      "[I 2023-06-19 10:31:26,604] Trial 11 finished with value: 0.8652227980328859 and parameters: {'alpha': 0.016490474798740818, 'l1_ratio': 0.6550663913995592}. Best is trial 10 with value: 0.871547833268334.\n",
      "[I 2023-06-19 10:31:26,621] Trial 12 finished with value: 0.8701771318795746 and parameters: {'alpha': 0.028170239047020602, 'l1_ratio': 0.5902682441159329}. Best is trial 10 with value: 0.871547833268334.\n",
      "[I 2023-06-19 10:31:26,637] Trial 13 finished with value: -0.09421908554927114 and parameters: {'alpha': 0.9627450950734627, 'l1_ratio': 0.5958025509458089}. Best is trial 10 with value: 0.871547833268334.\n",
      "[I 2023-06-19 10:31:26,657] Trial 14 finished with value: 0.6642573735274989 and parameters: {'alpha': 0.14499108676844213, 'l1_ratio': 0.5099422736476125}. Best is trial 10 with value: 0.871547833268334.\n",
      "[I 2023-06-19 10:31:26,673] Trial 15 finished with value: 0.8208568106878966 and parameters: {'alpha': 0.012515883620134005, 'l1_ratio': 0.4443862734196245}. Best is trial 10 with value: 0.871547833268334.\n",
      "[I 2023-06-19 10:31:26,689] Trial 16 finished with value: 0.5274991110460032 and parameters: {'alpha': 0.15869934349314874, 'l1_ratio': 0.6558425280963754}. Best is trial 10 with value: 0.871547833268334.\n",
      "[I 2023-06-19 10:31:26,706] Trial 17 finished with value: 0.6984252572800969 and parameters: {'alpha': 0.12465069413817526, 'l1_ratio': 0.5624944083207519}. Best is trial 10 with value: 0.871547833268334.\n",
      "[I 2023-06-19 10:31:26,721] Trial 18 finished with value: 0.5174895982571782 and parameters: {'alpha': 0.22116018539522125, 'l1_ratio': 0.42300469950071123}. Best is trial 10 with value: 0.871547833268334.\n",
      "[I 2023-06-19 10:31:26,738] Trial 19 finished with value: -0.09421908554927114 and parameters: {'alpha': 0.39646457633534904, 'l1_ratio': 0.6786288091432211}. Best is trial 10 with value: 0.871547833268334.\n",
      "[I 2023-06-19 10:31:26,755] Trial 20 finished with value: 0.605341831020862 and parameters: {'alpha': 0.21199272572839617, 'l1_ratio': 0.3367735351297573}. Best is trial 10 with value: 0.871547833268334.\n",
      "[I 2023-06-19 10:31:26,773] Trial 21 finished with value: 0.8701720402009283 and parameters: {'alpha': 0.01599713122334071, 'l1_ratio': 0.7499823813291431}. Best is trial 10 with value: 0.871547833268334.\n",
      "[I 2023-06-19 10:31:26,791] Trial 22 finished with value: 0.8115824961100856 and parameters: {'alpha': 0.07801846558524306, 'l1_ratio': 0.5431608842993502}. Best is trial 10 with value: 0.871547833268334.\n",
      "[I 2023-06-19 10:31:26,806] Trial 23 finished with value: 0.7640593139790217 and parameters: {'alpha': 0.0865980055370606, 'l1_ratio': 0.7136156505913828}. Best is trial 10 with value: 0.871547833268334.\n",
      "[I 2023-06-19 10:31:26,827] Trial 24 finished with value: 0.6038218040832801 and parameters: {'alpha': 0.0018362128884312871, 'l1_ratio': 0.5959717520856261}. Best is trial 10 with value: 0.871547833268334.\n",
      "[I 2023-06-19 10:31:26,843] Trial 25 finished with value: 0.13631403459156322 and parameters: {'alpha': 0.21205563729739704, 'l1_ratio': 0.7607860381303655}. Best is trial 10 with value: 0.871547833268334.\n",
      "[I 2023-06-19 10:31:26,858] Trial 26 finished with value: 0.7914450089637828 and parameters: {'alpha': 0.09282401677905862, 'l1_ratio': 0.48654321715596643}. Best is trial 10 with value: 0.871547833268334.\n",
      "[I 2023-06-19 10:31:26,878] Trial 27 finished with value: 0.6146003089359432 and parameters: {'alpha': 0.0019019576542639687, 'l1_ratio': 0.6220472597656911}. Best is trial 10 with value: 0.871547833268334.\n",
      "[I 2023-06-19 10:31:26,893] Trial 28 finished with value: 0.6917336034847936 and parameters: {'alpha': 0.1078745236763593, 'l1_ratio': 0.7201452696393648}. Best is trial 10 with value: 0.871547833268334.\n",
      "[I 2023-06-19 10:31:26,908] Trial 29 finished with value: 0.7180577797114551 and parameters: {'alpha': 0.09165941536342176, 'l1_ratio': 0.8216804917292959}. Best is trial 10 with value: 0.871547833268334.\n",
      "[I 2023-06-19 10:31:26,924] Trial 30 finished with value: 0.8440673045014428 and parameters: {'alpha': 0.055846478600007216, 'l1_ratio': 0.5339206067161901}. Best is trial 10 with value: 0.871547833268334.\n",
      "[I 2023-06-19 10:31:26,938] Trial 31 finished with value: 0.009571591570643112 and parameters: {'alpha': 0.2185862062392574, 'l1_ratio': 0.8641151810587291}. Best is trial 10 with value: 0.871547833268334.\n",
      "[I 2023-06-19 10:31:26,953] Trial 32 finished with value: 0.8407580275252521 and parameters: {'alpha': 0.05315972012435681, 'l1_ratio': 0.7429580099475193}. Best is trial 10 with value: 0.871547833268334.\n",
      "[I 2023-06-19 10:31:26,969] Trial 33 finished with value: 0.3571327961031474 and parameters: {'alpha': 0.1672370843387298, 'l1_ratio': 0.7937367937545069}. Best is trial 10 with value: 0.871547833268334.\n",
      "[I 2023-06-19 10:31:26,983] Trial 34 finished with value: -0.09421908554927114 and parameters: {'alpha': 0.2780608002905591, 'l1_ratio': 0.894954893083016}. Best is trial 10 with value: 0.871547833268334.\n",
      "[I 2023-06-19 10:31:26,998] Trial 35 finished with value: 0.8402631704502749 and parameters: {'alpha': 0.05528858257653827, 'l1_ratio': 0.6856219007920918}. Best is trial 10 with value: 0.871547833268334.\n",
      "[I 2023-06-19 10:31:27,013] Trial 36 finished with value: 0.639738213447977 and parameters: {'alpha': 0.1332940017270913, 'l1_ratio': 0.632241006002932}. Best is trial 10 with value: 0.871547833268334.\n",
      "[I 2023-06-19 10:31:27,027] Trial 37 finished with value: -0.038270146332796975 and parameters: {'alpha': 0.27213802748172694, 'l1_ratio': 0.7413843196407189}. Best is trial 10 with value: 0.871547833268334.\n",
      "[I 2023-06-19 10:31:27,043] Trial 38 finished with value: 0.77581017903299 and parameters: {'alpha': 0.004521093584410014, 'l1_ratio': 0.7987007000650418}. Best is trial 10 with value: 0.871547833268334.\n",
      "[I 2023-06-19 10:31:27,058] Trial 39 finished with value: -0.09421908554927114 and parameters: {'alpha': 0.37604391004419513, 'l1_ratio': 0.6929240324159083}. Best is trial 10 with value: 0.871547833268334.\n",
      "[I 2023-06-19 10:31:27,074] Trial 40 finished with value: 0.8393313126618429 and parameters: {'alpha': 0.05027989985064025, 'l1_ratio': 0.8617664137667658}. Best is trial 10 with value: 0.871547833268334.\n",
      "[I 2023-06-19 10:31:27,090] Trial 41 finished with value: 0.8656794329914634 and parameters: {'alpha': 0.03441039247100255, 'l1_ratio': 0.6458475410893344}. Best is trial 10 with value: 0.871547833268334.\n",
      "[I 2023-06-19 10:31:27,112] Trial 42 finished with value: 0.8411577212105886 and parameters: {'alpha': 0.056894588549964306, 'l1_ratio': 0.6099416155595557}. Best is trial 10 with value: 0.871547833268334.\n",
      "[I 2023-06-19 10:31:27,129] Trial 43 finished with value: 0.6790256129435986 and parameters: {'alpha': 0.11901434255887537, 'l1_ratio': 0.6537730582952612}. Best is trial 10 with value: 0.871547833268334.\n",
      "[I 2023-06-19 10:31:27,146] Trial 44 finished with value: 0.4715584458171107 and parameters: {'alpha': 0.18744182374652563, 'l1_ratio': 0.586699328969822}. Best is trial 10 with value: 0.871547833268334.\n",
      "[I 2023-06-19 10:31:27,163] Trial 45 finished with value: 0.7098111429481945 and parameters: {'alpha': 0.13217170165783923, 'l1_ratio': 0.47992947091138444}. Best is trial 10 with value: 0.871547833268334.\n",
      "[I 2023-06-19 10:31:27,178] Trial 46 finished with value: 0.8670347291101825 and parameters: {'alpha': 0.03298861935860581, 'l1_ratio': 0.5802556185079557}. Best is trial 10 with value: 0.871547833268334.\n",
      "/Users/quentinfisch/Documents/EPITA/ING2/SCIA/S8/FTML/FTML_RPGF/.venv/lib/python3.11/site-packages/sklearn/linear_model/_coordinate_descent.py:631: ConvergenceWarning: Objective did not converge. You might want to increase the number of iterations, check the scale of the features or consider increasing regularisation. Duality gap: 3.459e-03, tolerance: 3.374e-03\n",
      "  model = cd_fast.enet_coordinate_descent(\n",
      "[I 2023-06-19 10:31:27,201] Trial 47 finished with value: 0.3449378172363632 and parameters: {'alpha': 0.0003200170232810426, 'l1_ratio': 0.5355805479787346}. Best is trial 10 with value: 0.871547833268334.\n",
      "[I 2023-06-19 10:31:27,216] Trial 48 finished with value: 0.5241635308743035 and parameters: {'alpha': 0.17700344114049538, 'l1_ratio': 0.5709980433508905}. Best is trial 10 with value: 0.871547833268334.\n",
      "[I 2023-06-19 10:31:27,230] Trial 49 finished with value: 0.694359399872981 and parameters: {'alpha': 0.11071120918161526, 'l1_ratio': 0.6865961555198106}. Best is trial 10 with value: 0.871547833268334.\n",
      "[I 2023-06-19 10:31:27,246] Trial 50 finished with value: 0.8494174878187237 and parameters: {'alpha': 0.04737204479691913, 'l1_ratio': 0.7584735301274717}. Best is trial 10 with value: 0.871547833268334.\n",
      "[I 2023-06-19 10:31:27,260] Trial 51 finished with value: 0.8634007304981879 and parameters: {'alpha': 0.03688888356019282, 'l1_ratio': 0.6352636720894181}. Best is trial 10 with value: 0.871547833268334.\n",
      "[I 2023-06-19 10:31:27,276] Trial 52 finished with value: 0.7962289733738223 and parameters: {'alpha': 0.07788394841242363, 'l1_ratio': 0.6676249785630366}. Best is trial 10 with value: 0.871547833268334.\n",
      "[I 2023-06-19 10:31:27,291] Trial 53 finished with value: 0.5907957633214782 and parameters: {'alpha': 0.1561068507072344, 'l1_ratio': 0.5801052608808355}. Best is trial 10 with value: 0.871547833268334.\n",
      "[I 2023-06-19 10:31:27,306] Trial 54 finished with value: 0.8675108138312421 and parameters: {'alpha': 0.032022301219769206, 'l1_ratio': 0.6231174078118957}. Best is trial 10 with value: 0.871547833268334.\n",
      "[I 2023-06-19 10:31:27,321] Trial 55 finished with value: 0.789975263543855 and parameters: {'alpha': 0.09307154174164084, 'l1_ratio': 0.4936191731481869}. Best is trial 10 with value: 0.871547833268334.\n",
      "[I 2023-06-19 10:31:27,337] Trial 56 finished with value: 0.8695473667898959 and parameters: {'alpha': 0.029684010052303672, 'l1_ratio': 0.7083463031747026}. Best is trial 10 with value: 0.871547833268334.\n",
      "[I 2023-06-19 10:31:27,352] Trial 57 finished with value: 0.6279036675316781 and parameters: {'alpha': 0.12599613764138914, 'l1_ratio': 0.7082975505103521}. Best is trial 10 with value: 0.871547833268334.\n",
      "[I 2023-06-19 10:31:27,367] Trial 58 finished with value: 0.17966687472956075 and parameters: {'alpha': 0.24548582462709878, 'l1_ratio': 0.6204279206706187}. Best is trial 10 with value: 0.871547833268334.\n",
      "[I 2023-06-19 10:31:27,382] Trial 59 finished with value: 0.7762357025218896 and parameters: {'alpha': 0.08063438219220767, 'l1_ratio': 0.7387158965277256}. Best is trial 10 with value: 0.871547833268334.\n",
      "[I 2023-06-19 10:31:27,397] Trial 60 finished with value: 0.8725848290672923 and parameters: {'alpha': 0.02456970164656156, 'l1_ratio': 0.7069502815633981}. Best is trial 60 with value: 0.8725848290672923.\n",
      "[I 2023-06-19 10:31:27,412] Trial 61 finished with value: 0.8733447777571737 and parameters: {'alpha': 0.023830447410053968, 'l1_ratio': 0.7786000832455452}. Best is trial 61 with value: 0.8733447777571737.\n",
      "[I 2023-06-19 10:31:27,428] Trial 62 finished with value: 0.8052499026048696 and parameters: {'alpha': 0.006352238785662254, 'l1_ratio': 0.7147415563213554}. Best is trial 61 with value: 0.8733447777571737.\n",
      "[I 2023-06-19 10:31:27,443] Trial 63 finished with value: 0.7725653710864686 and parameters: {'alpha': 0.07945840354038722, 'l1_ratio': 0.7735784955305282}. Best is trial 61 with value: 0.8733447777571737.\n",
      "[I 2023-06-19 10:31:27,458] Trial 64 finished with value: 0.2427538041102512 and parameters: {'alpha': 0.1827607980823911, 'l1_ratio': 0.8067742130790133}. Best is trial 61 with value: 0.8733447777571737.\n",
      "[I 2023-06-19 10:31:27,473] Trial 65 finished with value: 0.45541414614289294 and parameters: {'alpha': 0.14418526559613692, 'l1_ratio': 0.833791126565791}. Best is trial 61 with value: 0.8733447777571737.\n",
      "[I 2023-06-19 10:31:27,488] Trial 66 finished with value: 0.872231505460044 and parameters: {'alpha': 0.026106697957880395, 'l1_ratio': 0.7718124017709063}. Best is trial 61 with value: 0.8733447777571737.\n",
      "[I 2023-06-19 10:31:27,502] Trial 67 finished with value: 0.6704334619505954 and parameters: {'alpha': 0.10951220535129119, 'l1_ratio': 0.7585171752443335}. Best is trial 61 with value: 0.8733447777571737.\n",
      "[I 2023-06-19 10:31:27,517] Trial 68 finished with value: 0.8725594017971797 and parameters: {'alpha': 0.022567889043622027, 'l1_ratio': 0.6705106929010892}. Best is trial 61 with value: 0.8733447777571737.\n",
      "[I 2023-06-19 10:31:27,532] Trial 69 finished with value: 0.8156851645872756 and parameters: {'alpha': 0.06567051666383841, 'l1_ratio': 0.7394248027463273}. Best is trial 61 with value: 0.8733447777571737.\n",
      "[I 2023-06-19 10:31:27,547] Trial 70 finished with value: 0.8710196097940885 and parameters: {'alpha': 0.02000415379681092, 'l1_ratio': 0.6573675148629802}. Best is trial 61 with value: 0.8733447777571737.\n",
      "[I 2023-06-19 10:31:27,561] Trial 71 finished with value: 0.8714855103084922 and parameters: {'alpha': 0.01595131153567062, 'l1_ratio': 0.7788329131831572}. Best is trial 61 with value: 0.8733447777571737.\n",
      "[I 2023-06-19 10:31:27,577] Trial 72 finished with value: 0.8702674481861429 and parameters: {'alpha': 0.02832534957466953, 'l1_ratio': 0.6713310204061222}. Best is trial 61 with value: 0.8733447777571737.\n",
      "[I 2023-06-19 10:31:27,592] Trial 73 finished with value: 0.8183621779954336 and parameters: {'alpha': 0.06817320191423734, 'l1_ratio': 0.6613335164245109}. Best is trial 61 with value: 0.8733447777571737.\n",
      "[I 2023-06-19 10:31:27,607] Trial 74 finished with value: 0.872628260697162 and parameters: {'alpha': 0.02380118304441044, 'l1_ratio': 0.672738323968832}. Best is trial 61 with value: 0.8733447777571737.\n",
      "[I 2023-06-19 10:31:27,625] Trial 75 finished with value: 0.614620612759798 and parameters: {'alpha': 0.001555530598056281, 'l1_ratio': 0.7891801029154111}. Best is trial 61 with value: 0.8733447777571737.\n",
      "[I 2023-06-19 10:31:27,640] Trial 76 finished with value: 0.736602249665478 and parameters: {'alpha': 0.09728127823477417, 'l1_ratio': 0.6930292650087939}. Best is trial 61 with value: 0.8733447777571737.\n",
      "[I 2023-06-19 10:31:27,654] Trial 77 finished with value: 0.8123269795055827 and parameters: {'alpha': 0.06521536154673921, 'l1_ratio': 0.7771849464077517}. Best is trial 61 with value: 0.8733447777571737.\n",
      "[I 2023-06-19 10:31:27,669] Trial 78 finished with value: 0.8640107018482578 and parameters: {'alpha': 0.03435137616601064, 'l1_ratio': 0.8320050793361158}. Best is trial 61 with value: 0.8733447777571737.\n",
      "[I 2023-06-19 10:31:27,686] Trial 79 finished with value: 0.7144023333270361 and parameters: {'alpha': 0.10056322673016266, 'l1_ratio': 0.7296680457506891}. Best is trial 61 with value: 0.8733447777571737.\n",
      "[I 2023-06-19 10:31:27,794] Trial 80 finished with value: 0.5771443234704944 and parameters: {'alpha': 0.14727273938900345, 'l1_ratio': 0.6508180695264574}. Best is trial 61 with value: 0.8733447777571737.\n",
      "[I 2023-06-19 10:31:27,809] Trial 81 finished with value: 0.8727448652296594 and parameters: {'alpha': 0.023704245486255736, 'l1_ratio': 0.6801602653685106}. Best is trial 61 with value: 0.8733447777571737.\n",
      "[I 2023-06-19 10:31:27,833] Trial 82 finished with value: 0.4286951970596937 and parameters: {'alpha': 0.0005290071569441189, 'l1_ratio': 0.7007918057992358}. Best is trial 61 with value: 0.8733447777571737.\n",
      "[I 2023-06-19 10:31:27,848] Trial 83 finished with value: 0.8353410121306466 and parameters: {'alpha': 0.05662886363738419, 'l1_ratio': 0.7283695332072192}. Best is trial 61 with value: 0.8733447777571737.\n",
      "[I 2023-06-19 10:31:27,863] Trial 84 finished with value: 0.8707984109218625 and parameters: {'alpha': 0.02747689893780453, 'l1_ratio': 0.6719661144098145}. Best is trial 61 with value: 0.8733447777571737.\n",
      "[I 2023-06-19 10:31:27,883] Trial 85 finished with value: 0.7716165776362885 and parameters: {'alpha': 0.07949633428027728, 'l1_ratio': 0.7775531148577566}. Best is trial 61 with value: 0.8733447777571737.\n",
      "[I 2023-06-19 10:31:27,898] Trial 86 finished with value: 0.705034076853007 and parameters: {'alpha': 0.11743467626759738, 'l1_ratio': 0.6010287582079487}. Best is trial 61 with value: 0.8733447777571737.\n",
      "[I 2023-06-19 10:31:27,917] Trial 87 finished with value: 0.8718761171644316 and parameters: {'alpha': 0.024600799363047085, 'l1_ratio': 0.6384898813984873}. Best is trial 61 with value: 0.8733447777571737.\n",
      "[I 2023-06-19 10:31:27,942] Trial 88 finished with value: 0.8492779690315292 and parameters: {'alpha': 0.05086847458421528, 'l1_ratio': 0.5573315869510659}. Best is trial 61 with value: 0.8733447777571737.\n",
      "[I 2023-06-19 10:31:27,971] Trial 89 finished with value: 0.8517239616791322 and parameters: {'alpha': 0.04715815566893403, 'l1_ratio': 0.6843252304069799}. Best is trial 61 with value: 0.8733447777571737.\n",
      "[I 2023-06-19 10:31:28,002] Trial 90 finished with value: 0.7467028612647024 and parameters: {'alpha': 0.10000860157176264, 'l1_ratio': 0.627822733302021}. Best is trial 61 with value: 0.8733447777571737.\n",
      "[I 2023-06-19 10:31:28,020] Trial 91 finished with value: 0.868996132999538 and parameters: {'alpha': 0.020413827714346036, 'l1_ratio': 0.6098399221378797}. Best is trial 61 with value: 0.8733447777571737.\n",
      "[I 2023-06-19 10:31:28,038] Trial 92 finished with value: 0.8707818485110094 and parameters: {'alpha': 0.02075607856335657, 'l1_ratio': 0.6379025278026182}. Best is trial 61 with value: 0.8733447777571737.\n",
      "[I 2023-06-19 10:31:28,055] Trial 93 finished with value: 0.8009148766371361 and parameters: {'alpha': 0.07290221303607451, 'l1_ratio': 0.7180689220460256}. Best is trial 61 with value: 0.8733447777571737.\n",
      "[I 2023-06-19 10:31:28,073] Trial 94 finished with value: 0.8725170926393757 and parameters: {'alpha': 0.025309591252232602, 'l1_ratio': 0.7545846105185986}. Best is trial 61 with value: 0.8733447777571737.\n",
      "[I 2023-06-19 10:31:28,090] Trial 95 finished with value: 0.8515136662317075 and parameters: {'alpha': 0.04606182063279046, 'l1_ratio': 0.7501271859078987}. Best is trial 61 with value: 0.8733447777571737.\n",
      "[I 2023-06-19 10:31:28,110] Trial 96 finished with value: 0.6061424521245405 and parameters: {'alpha': 0.0014576096624320314, 'l1_ratio': 0.8019120493971154}. Best is trial 61 with value: 0.8733447777571737.\n",
      "[I 2023-06-19 10:31:28,128] Trial 97 finished with value: 0.5755479390429596 and parameters: {'alpha': 0.1314971288752761, 'l1_ratio': 0.7593788978611082}. Best is trial 61 with value: 0.8733447777571737.\n",
      "[I 2023-06-19 10:31:28,145] Trial 98 finished with value: 0.8180497921787453 and parameters: {'alpha': 0.06684269948024127, 'l1_ratio': 0.6924096033576191}. Best is trial 61 with value: 0.8733447777571737.\n",
      "[I 2023-06-19 10:31:28,164] Trial 99 finished with value: 0.7361293764851539 and parameters: {'alpha': 0.0959029314410349, 'l1_ratio': 0.7098795315603665}. Best is trial 61 with value: 0.8733447777571737.\n"
     ]
    }
   ],
   "source": [
    "def objective_elasticnet(trial):\n",
    "    alpha = trial.suggest_float(\"alpha\", 0, 1)\n",
    "    l1_ratio = trial.suggest_float(\"l1_ratio\", 0, 1)\n",
    "    \n",
    "    elasticnet_pipeline = make_pipeline(\n",
    "        RobustScaler(),\n",
    "        ElasticNet(alpha=alpha, l1_ratio=l1_ratio, random_state=0)\n",
    "    )\n",
    "    \n",
    "    scores = cross_val_score(elasticnet_pipeline, X=X_train, y=y_train, cv=5, n_jobs=-1, scoring=r2)\n",
    "    return np.mean(scores)\n",
    "    \n",
    "study = optuna.create_study(direction='maximize')\n",
    "study.optimize(objective_elasticnet, n_trials=100)"
   ]
  },
  {
   "cell_type": "code",
   "execution_count": 51,
   "id": "0e2dd289",
   "metadata": {},
   "outputs": [],
   "source": [
    "elasticnet_pipeline = make_pipeline(\n",
    "    RobustScaler(),\n",
    "    ElasticNet(alpha=study.best_params[\"alpha\"], l1_ratio=study.best_params[\"l1_ratio\"], random_state=0)\n",
    ")"
   ]
  },
  {
   "cell_type": "code",
   "execution_count": 52,
   "id": "7c3acf49",
   "metadata": {},
   "outputs": [
    {
     "name": "stdout",
     "output_type": "stream",
     "text": [
      "Cross-validation score: 0.8733447777571737\n"
     ]
    }
   ],
   "source": [
    "scores = cross_val_score(elasticnet_pipeline, X_train, y_train, cv=5, scoring=r2)\n",
    "print(f\"Cross-validation score: {np.mean(scores)}\")"
   ]
  },
  {
   "cell_type": "code",
   "execution_count": 53,
   "id": "f55ca81e",
   "metadata": {},
   "outputs": [
    {
     "name": "stdout",
     "output_type": "stream",
     "text": [
      "Test score: 0.8832858723033203\n"
     ]
    }
   ],
   "source": [
    "elasticnet_pipeline.fit(X_train, y_train)\n",
    "preds = elasticnet_pipeline.predict(X_test)\n",
    "print(f\"Test score: {r2_score(y_test, preds)}\")"
   ]
  },
  {
   "cell_type": "code",
   "execution_count": 54,
   "id": "9c4eeda1",
   "metadata": {},
   "outputs": [
    {
     "data": {
      "text/plain": [
       "{'alpha': 0.023830447410053968, 'l1_ratio': 0.7786000832455452}"
      ]
     },
     "execution_count": 54,
     "metadata": {},
     "output_type": "execute_result"
    }
   ],
   "source": [
    "study.best_params"
   ]
  },
  {
   "attachments": {},
   "cell_type": "markdown",
   "id": "b4ee6078",
   "metadata": {},
   "source": [
    "We get way better results, with a score of `0.883` on the test set when using $\\alpha=0.0238$ and l1_ratio $=0.7786$. Still, Lasso performs a bit better.\n",
    "\n",
    "### Ridge\n",
    "\n",
    "Finally, let's look at Ridge regression."
   ]
  },
  {
   "cell_type": "code",
   "execution_count": 55,
   "id": "a1eaf5c8",
   "metadata": {},
   "outputs": [],
   "source": [
    "ridge_pipeline = make_pipeline(\n",
    "    RobustScaler(),\n",
    "    Ridge(alpha=0.001, random_state=0)\n",
    ")"
   ]
  },
  {
   "cell_type": "code",
   "execution_count": 56,
   "id": "63e4d6fe",
   "metadata": {},
   "outputs": [
    {
     "name": "stdout",
     "output_type": "stream",
     "text": [
      "Cross-validation score: 0.11581411054273852\n"
     ]
    }
   ],
   "source": [
    "scores = cross_val_score(ridge_pipeline, X_train, y_train, cv=5, scoring=r2)\n",
    "print(f\"Cross-validation score: {np.mean(scores)}\")"
   ]
  },
  {
   "cell_type": "code",
   "execution_count": 57,
   "id": "e1235f6a",
   "metadata": {},
   "outputs": [
    {
     "name": "stdout",
     "output_type": "stream",
     "text": [
      "Test score: -7.605696412327797\n"
     ]
    }
   ],
   "source": [
    "ridge_pipeline.fit(X_train, y_train)\n",
    "preds = ridge_pipeline.predict(X_test)\n",
    "print(f\"Test score: {r2_score(y_test, preds)}\")"
   ]
  },
  {
   "attachments": {},
   "cell_type": "markdown",
   "id": "2211a59c",
   "metadata": {},
   "source": [
    "The test score is terrible, maybe we can do better with Optuna."
   ]
  },
  {
   "cell_type": "code",
   "execution_count": 58,
   "id": "8afecc32",
   "metadata": {},
   "outputs": [
    {
     "name": "stderr",
     "output_type": "stream",
     "text": [
      "[I 2023-06-19 10:35:44,191] A new study created in memory with name: no-name-89367111-f793-4864-96ff-363283ba2cb7\n",
      "[I 2023-06-19 10:35:44,233] Trial 0 finished with value: 0.34683022009308717 and parameters: {'alpha': 0.5654800370063418}. Best is trial 0 with value: 0.34683022009308717.\n",
      "[I 2023-06-19 10:35:44,281] Trial 1 finished with value: 0.22393001783322627 and parameters: {'alpha': 0.17325013793994415}. Best is trial 0 with value: 0.34683022009308717.\n",
      "[I 2023-06-19 10:35:44,300] Trial 2 finished with value: 0.372627018640712 and parameters: {'alpha': 0.7042851471082987}. Best is trial 2 with value: 0.372627018640712.\n",
      "[I 2023-06-19 10:35:44,312] Trial 3 finished with value: 0.3781900704134939 and parameters: {'alpha': 0.7385267522770584}. Best is trial 3 with value: 0.3781900704134939.\n",
      "[I 2023-06-19 10:35:44,324] Trial 4 finished with value: 0.3566811703197168 and parameters: {'alpha': 0.6149391142790094}. Best is trial 3 with value: 0.3781900704134939.\n",
      "[I 2023-06-19 10:35:44,336] Trial 5 finished with value: 0.19302830109907512 and parameters: {'alpha': 0.11386599788238139}. Best is trial 3 with value: 0.3781900704134939.\n",
      "[I 2023-06-19 10:35:44,348] Trial 6 finished with value: 0.28186256536435583 and parameters: {'alpha': 0.31833875298814507}. Best is trial 3 with value: 0.3781900704134939.\n",
      "[I 2023-06-19 10:35:44,371] Trial 7 finished with value: 0.40764054774585035 and parameters: {'alpha': 0.9530559197795884}. Best is trial 7 with value: 0.40764054774585035.\n",
      "[I 2023-06-19 10:35:44,383] Trial 8 finished with value: 0.3300625828601066 and parameters: {'alpha': 0.48982081922997023}. Best is trial 7 with value: 0.40764054774585035.\n",
      "[I 2023-06-19 10:35:44,398] Trial 9 finished with value: 0.2959571344323305 and parameters: {'alpha': 0.3625854490648126}. Best is trial 7 with value: 0.40764054774585035.\n",
      "[I 2023-06-19 10:35:44,411] Trial 10 finished with value: 0.4001712408790972 and parameters: {'alpha': 0.8926411540888555}. Best is trial 7 with value: 0.40764054774585035.\n",
      "[I 2023-06-19 10:35:44,424] Trial 11 finished with value: 0.41165134950132937 and parameters: {'alpha': 0.9874734252543464}. Best is trial 11 with value: 0.41165134950132937.\n",
      "[I 2023-06-19 10:35:44,440] Trial 12 finished with value: 0.41121059176107877 and parameters: {'alpha': 0.9836197653107935}. Best is trial 11 with value: 0.41165134950132937.\n",
      "[I 2023-06-19 10:35:44,454] Trial 13 finished with value: 0.40866358679648734 and parameters: {'alpha': 0.961697894680689}. Best is trial 11 with value: 0.41165134950132937.\n",
      "[I 2023-06-19 10:35:44,467] Trial 14 finished with value: 0.38834012240869303 and parameters: {'alpha': 0.8056894070391019}. Best is trial 11 with value: 0.41165134950132937.\n",
      "[I 2023-06-19 10:35:44,482] Trial 15 finished with value: 0.4123829908227412 and parameters: {'alpha': 0.9939102638405999}. Best is trial 15 with value: 0.4123829908227412.\n",
      "[I 2023-06-19 10:35:44,507] Trial 16 finished with value: 0.394394570039997 and parameters: {'alpha': 0.8489312199387584}. Best is trial 15 with value: 0.4123829908227412.\n",
      "[I 2023-06-19 10:35:44,521] Trial 17 finished with value: 0.38911005991133896 and parameters: {'alpha': 0.8110499119884749}. Best is trial 15 with value: 0.4123829908227412.\n",
      "[I 2023-06-19 10:35:44,535] Trial 18 finished with value: 0.40996600509148007 and parameters: {'alpha': 0.9728343830239576}. Best is trial 15 with value: 0.4123829908227412.\n",
      "[I 2023-06-19 10:35:44,549] Trial 19 finished with value: 0.3755523003403707 and parameters: {'alpha': 0.7220765756802519}. Best is trial 15 with value: 0.4123829908227412.\n",
      "[I 2023-06-19 10:35:44,562] Trial 20 finished with value: 0.4009382112282724 and parameters: {'alpha': 0.898635715890933}. Best is trial 15 with value: 0.4123829908227412.\n",
      "[I 2023-06-19 10:35:44,575] Trial 21 finished with value: 0.41300893120752347 and parameters: {'alpha': 0.9994570761297421}. Best is trial 21 with value: 0.41300893120752347.\n",
      "[I 2023-06-19 10:35:44,589] Trial 22 finished with value: 0.4122396249048486 and parameters: {'alpha': 0.992645013243672}. Best is trial 21 with value: 0.41300893120752347.\n",
      "[I 2023-06-19 10:35:44,603] Trial 23 finished with value: 0.3959264854264374 and parameters: {'alpha': 0.8602808986190468}. Best is trial 21 with value: 0.41300893120752347.\n",
      "[I 2023-06-19 10:35:44,617] Trial 24 finished with value: 0.3975752414148337 and parameters: {'alpha': 0.8726887572289154}. Best is trial 21 with value: 0.41300893120752347.\n",
      "[I 2023-06-19 10:35:44,631] Trial 25 finished with value: 0.41299001183352624 and parameters: {'alpha': 0.9992888776504015}. Best is trial 21 with value: 0.41300893120752347.\n",
      "[I 2023-06-19 10:35:44,644] Trial 26 finished with value: 0.38374234921282946 and parameters: {'alpha': 0.7744783512889691}. Best is trial 21 with value: 0.41300893120752347.\n",
      "[I 2023-06-19 10:35:44,659] Trial 27 finished with value: 0.4019738201764539 and parameters: {'alpha': 0.9068037009327679}. Best is trial 21 with value: 0.41300893120752347.\n",
      "[I 2023-06-19 10:35:44,677] Trial 28 finished with value: 0.3902824967531077 and parameters: {'alpha': 0.8192887662017199}. Best is trial 21 with value: 0.41300893120752347.\n",
      "[I 2023-06-19 10:35:44,695] Trial 29 finished with value: 0.3639342868213786 and parameters: {'alpha': 0.654055549770022}. Best is trial 21 with value: 0.41300893120752347.\n",
      "[I 2023-06-19 10:35:44,711] Trial 30 finished with value: 0.40330538357560375 and parameters: {'alpha': 0.9174324240360021}. Best is trial 21 with value: 0.41300893120752347.\n",
      "[I 2023-06-19 10:35:44,725] Trial 31 finished with value: 0.41282180794010837 and parameters: {'alpha': 0.9977949905509479}. Best is trial 21 with value: 0.41300893120752347.\n",
      "[I 2023-06-19 10:35:44,740] Trial 32 finished with value: 0.412758346067041 and parameters: {'alpha': 0.9972320559379165}. Best is trial 21 with value: 0.41300893120752347.\n",
      "[I 2023-06-19 10:35:44,754] Trial 33 finished with value: 0.40507964224795945 and parameters: {'alpha': 0.9318205684282701}. Best is trial 21 with value: 0.41300893120752347.\n",
      "[I 2023-06-19 10:35:44,768] Trial 34 finished with value: 0.38485666613071057 and parameters: {'alpha': 0.7819192859511993}. Best is trial 21 with value: 0.41300893120752347.\n",
      "[I 2023-06-19 10:35:44,781] Trial 35 finished with value: 0.3945172817693438 and parameters: {'alpha': 0.8498341120820282}. Best is trial 21 with value: 0.41300893120752347.\n",
      "[I 2023-06-19 10:35:44,796] Trial 36 finished with value: 0.4041621117994155 and parameters: {'alpha': 0.924347403731623}. Best is trial 21 with value: 0.41300893120752347.\n",
      "[I 2023-06-19 10:35:44,810] Trial 37 finished with value: 0.3791445398712933 and parameters: {'alpha': 0.7445771145356151}. Best is trial 21 with value: 0.41300893120752347.\n",
      "[I 2023-06-19 10:35:44,823] Trial 38 finished with value: 0.40473519133115515 and parameters: {'alpha': 0.9290068263796939}. Best is trial 21 with value: 0.41300893120752347.\n",
      "[I 2023-06-19 10:35:44,837] Trial 39 finished with value: 0.3948091791620306 and parameters: {'alpha': 0.8519861990603501}. Best is trial 21 with value: 0.41300893120752347.\n",
      "[I 2023-06-19 10:35:44,851] Trial 40 finished with value: 0.3641567044707144 and parameters: {'alpha': 0.6552938336110847}. Best is trial 21 with value: 0.41300893120752347.\n",
      "[I 2023-06-19 10:35:44,868] Trial 41 finished with value: 0.4117384663053909 and parameters: {'alpha': 0.9882372424909969}. Best is trial 21 with value: 0.41300893120752347.\n",
      "[I 2023-06-19 10:35:44,882] Trial 42 finished with value: 0.4064233994077922 and parameters: {'alpha': 0.9428931379533284}. Best is trial 21 with value: 0.41300893120752347.\n",
      "[I 2023-06-19 10:35:44,895] Trial 43 finished with value: 0.4119874234048648 and parameters: {'alpha': 0.9904239281687269}. Best is trial 21 with value: 0.41300893120752347.\n",
      "[I 2023-06-19 10:35:44,907] Trial 44 finished with value: 0.3994854298084186 and parameters: {'alpha': 0.8873198201126846}. Best is trial 21 with value: 0.41300893120752347.\n",
      "[I 2023-06-19 10:35:44,921] Trial 45 finished with value: 0.4124872215340375 and parameters: {'alpha': 0.9948313460492669}. Best is trial 21 with value: 0.41300893120752347.\n",
      "[I 2023-06-19 10:35:44,935] Trial 46 finished with value: 0.40499957693453653 and parameters: {'alpha': 0.9311656461214646}. Best is trial 21 with value: 0.41300893120752347.\n",
      "[I 2023-06-19 10:35:44,950] Trial 47 finished with value: 0.408248551229494 and parameters: {'alpha': 0.9581808344086415}. Best is trial 21 with value: 0.41300893120752347.\n",
      "[I 2023-06-19 10:35:44,964] Trial 48 finished with value: 0.4129819208245994 and parameters: {'alpha': 0.9992169567074055}. Best is trial 21 with value: 0.41300893120752347.\n",
      "[I 2023-06-19 10:35:44,977] Trial 49 finished with value: 0.3995274031920947 and parameters: {'alpha': 0.8876444515894402}. Best is trial 21 with value: 0.41300893120752347.\n",
      "[I 2023-06-19 10:35:44,990] Trial 50 finished with value: 0.40707044069072273 and parameters: {'alpha': 0.9482797607524293}. Best is trial 21 with value: 0.41300893120752347.\n",
      "[I 2023-06-19 10:35:45,003] Trial 51 finished with value: 0.41236155817067177 and parameters: {'alpha': 0.9937209910547633}. Best is trial 21 with value: 0.41300893120752347.\n",
      "[I 2023-06-19 10:35:45,016] Trial 52 finished with value: 0.40780204604425735 and parameters: {'alpha': 0.954414043086633}. Best is trial 21 with value: 0.41300893120752347.\n",
      "[I 2023-06-19 10:35:45,030] Trial 53 finished with value: 0.4128746099827502 and parameters: {'alpha': 0.9982636582694063}. Best is trial 21 with value: 0.41300893120752347.\n",
      "[I 2023-06-19 10:35:45,043] Trial 54 finished with value: 0.4000690293810926 and parameters: {'alpha': 0.891845757558882}. Best is trial 21 with value: 0.41300893120752347.\n",
      "[I 2023-06-19 10:35:45,056] Trial 55 finished with value: 0.39169009208662675 and parameters: {'alpha': 0.8293032741084263}. Best is trial 21 with value: 0.41300893120752347.\n",
      "[I 2023-06-19 10:35:45,069] Trial 56 finished with value: 0.40715528288440306 and parameters: {'alpha': 0.9489887517535106}. Best is trial 21 with value: 0.41300893120752347.\n",
      "[I 2023-06-19 10:35:45,083] Trial 57 finished with value: 0.3971159059987735 and parameters: {'alpha': 0.869211667427946}. Best is trial 21 with value: 0.41300893120752347.\n",
      "[I 2023-06-19 10:35:45,101] Trial 58 finished with value: 0.4024485137237777 and parameters: {'alpha': 0.9105763234108546}. Best is trial 21 with value: 0.41300893120752347.\n",
      "[I 2023-06-19 10:35:45,115] Trial 59 finished with value: 0.4086224343003783 and parameters: {'alpha': 0.9613484829235875}. Best is trial 21 with value: 0.41300893120752347.\n",
      "[I 2023-06-19 10:35:45,128] Trial 60 finished with value: 0.34363190160754875 and parameters: {'alpha': 0.5502605512142615}. Best is trial 21 with value: 0.41300893120752347.\n",
      "[I 2023-06-19 10:35:45,141] Trial 61 finished with value: 0.41236747259218587 and parameters: {'alpha': 0.9937732172847735}. Best is trial 21 with value: 0.41300893120752347.\n",
      "[I 2023-06-19 10:35:45,155] Trial 62 finished with value: 0.4124241596329451 and parameters: {'alpha': 0.9942739487126985}. Best is trial 21 with value: 0.41300893120752347.\n",
      "[I 2023-06-19 10:35:45,167] Trial 63 finished with value: 0.4085295886516257 and parameters: {'alpha': 0.9605607134715682}. Best is trial 21 with value: 0.41300893120752347.\n",
      "[I 2023-06-19 10:35:45,180] Trial 64 finished with value: 0.40154430526886237 and parameters: {'alpha': 0.9034057026076929}. Best is trial 21 with value: 0.41300893120752347.\n",
      "[I 2023-06-19 10:35:45,194] Trial 65 finished with value: 0.4128348881170007 and parameters: {'alpha': 0.9979110648115777}. Best is trial 21 with value: 0.41300893120752347.\n",
      "[I 2023-06-19 10:35:45,206] Trial 66 finished with value: 0.40866805558417185 and parameters: {'alpha': 0.9617358466655345}. Best is trial 21 with value: 0.41300893120752347.\n",
      "[I 2023-06-19 10:35:45,221] Trial 67 finished with value: 0.39255603034925524 and parameters: {'alpha': 0.8355319468384261}. Best is trial 21 with value: 0.41300893120752347.\n",
      "[I 2023-06-19 10:35:45,236] Trial 68 finished with value: 0.40341292899436276 and parameters: {'alpha': 0.9182971546456331}. Best is trial 21 with value: 0.41300893120752347.\n",
      "[I 2023-06-19 10:35:45,254] Trial 69 finished with value: 0.3957611212766515 and parameters: {'alpha': 0.8590475216581307}. Best is trial 21 with value: 0.41300893120752347.\n",
      "[I 2023-06-19 10:35:45,270] Trial 70 finished with value: 0.3860113070422083 and parameters: {'alpha': 0.7897118783847813}. Best is trial 21 with value: 0.41300893120752347.\n",
      "[I 2023-06-19 10:35:45,284] Trial 71 finished with value: 0.41250562186736667 and parameters: {'alpha': 0.9949940551458266}. Best is trial 21 with value: 0.41300893120752347.\n",
      "[I 2023-06-19 10:35:45,305] Trial 72 finished with value: 0.4130486108747028 and parameters: {'alpha': 0.9998099497334627}. Best is trial 72 with value: 0.4130486108747028.\n",
      "[I 2023-06-19 10:35:45,353] Trial 73 finished with value: 0.40571079066723587 and parameters: {'alpha': 0.9370021654148776}. Best is trial 72 with value: 0.4130486108747028.\n",
      "[I 2023-06-19 10:35:45,390] Trial 74 finished with value: 0.40948879233059365 and parameters: {'alpha': 0.9687362618915659}. Best is trial 72 with value: 0.4130486108747028.\n",
      "[I 2023-06-19 10:35:45,421] Trial 75 finished with value: 0.40230641729895994 and parameters: {'alpha': 0.9094451118771549}. Best is trial 72 with value: 0.4130486108747028.\n",
      "[I 2023-06-19 10:35:45,437] Trial 76 finished with value: 0.4090737717866988 and parameters: {'alpha': 0.9651888597443696}. Best is trial 72 with value: 0.4130486108747028.\n",
      "[I 2023-06-19 10:35:45,452] Trial 77 finished with value: 0.4046860993713131 and parameters: {'alpha': 0.9286066132731307}. Best is trial 72 with value: 0.4130486108747028.\n",
      "[I 2023-06-19 10:35:45,466] Trial 78 finished with value: 0.3981075312695701 and parameters: {'alpha': 0.8767379387765296}. Best is trial 72 with value: 0.4130486108747028.\n",
      "[I 2023-06-19 10:35:45,479] Trial 79 finished with value: 0.40957786172831606 and parameters: {'alpha': 0.9694995986759637}. Best is trial 72 with value: 0.4130486108747028.\n",
      "[I 2023-06-19 10:35:45,494] Trial 80 finished with value: 0.41298686953457403 and parameters: {'alpha': 0.999260945031011}. Best is trial 72 with value: 0.4130486108747028.\n",
      "[I 2023-06-19 10:35:45,507] Trial 81 finished with value: 0.4127143439222003 and parameters: {'alpha': 0.9968419611893723}. Best is trial 72 with value: 0.4130486108747028.\n",
      "[I 2023-06-19 10:35:45,522] Trial 82 finished with value: 0.40672334548138434 and parameters: {'alpha': 0.9453857087563687}. Best is trial 72 with value: 0.4130486108747028.\n",
      "[I 2023-06-19 10:35:45,538] Trial 83 finished with value: 0.40986893302637756 and parameters: {'alpha': 0.9719991005119332}. Best is trial 72 with value: 0.4130486108747028.\n",
      "[I 2023-06-19 10:35:45,554] Trial 84 finished with value: 0.4045809082570074 and parameters: {'alpha': 0.9277497393071552}. Best is trial 72 with value: 0.4130486108747028.\n",
      "[I 2023-06-19 10:35:45,568] Trial 85 finished with value: 0.40106013006796176 and parameters: {'alpha': 0.8995928845089901}. Best is trial 72 with value: 0.4130486108747028.\n",
      "[I 2023-06-19 10:35:45,582] Trial 86 finished with value: 0.4100591127543164 and parameters: {'alpha': 0.9736363539324625}. Best is trial 72 with value: 0.4130486108747028.\n",
      "[I 2023-06-19 10:35:45,603] Trial 87 finished with value: 0.40597898033032537 and parameters: {'alpha': 0.9392141508003874}. Best is trial 72 with value: 0.4130486108747028.\n",
      "[I 2023-06-19 10:35:45,619] Trial 88 finished with value: 0.3982447158622043 and parameters: {'alpha': 0.8777849863853828}. Best is trial 72 with value: 0.4130486108747028.\n",
      "[I 2023-06-19 10:35:45,632] Trial 89 finished with value: 0.4103117703445555 and parameters: {'alpha': 0.975816549337903}. Best is trial 72 with value: 0.4130486108747028.\n",
      "[I 2023-06-19 10:35:45,646] Trial 90 finished with value: 0.4129293159680104 and parameters: {'alpha': 0.9987495037981714}. Best is trial 72 with value: 0.4130486108747028.\n",
      "[I 2023-06-19 10:35:45,658] Trial 91 finished with value: 0.4128681068152936 and parameters: {'alpha': 0.9982059222961078}. Best is trial 72 with value: 0.4130486108747028.\n",
      "[I 2023-06-19 10:35:45,671] Trial 92 finished with value: 0.4128200717667343 and parameters: {'alpha': 0.9977795848633843}. Best is trial 72 with value: 0.4130486108747028.\n",
      "[I 2023-06-19 10:35:45,685] Trial 93 finished with value: 0.40573693328743915 and parameters: {'alpha': 0.9372175169624596}. Best is trial 72 with value: 0.4130486108747028.\n",
      "[I 2023-06-19 10:35:45,697] Trial 94 finished with value: 0.40275611867035777 and parameters: {'alpha': 0.9130307145444737}. Best is trial 72 with value: 0.4130486108747028.\n",
      "[I 2023-06-19 10:35:45,710] Trial 95 finished with value: 0.4103490508863216 and parameters: {'alpha': 0.9761387362107624}. Best is trial 72 with value: 0.4130486108747028.\n",
      "[I 2023-06-19 10:35:45,723] Trial 96 finished with value: 0.4072060319355478 and parameters: {'alpha': 0.9494131385964607}. Best is trial 72 with value: 0.4130486108747028.\n",
      "[I 2023-06-19 10:35:45,737] Trial 97 finished with value: 0.4097947849182944 and parameters: {'alpha': 0.9713616469344577}. Best is trial 72 with value: 0.4130486108747028.\n",
      "[I 2023-06-19 10:35:45,750] Trial 98 finished with value: 0.4130635995830313 and parameters: {'alpha': 0.999943284101946}. Best is trial 98 with value: 0.4130635995830313.\n",
      "[I 2023-06-19 10:35:45,764] Trial 99 finished with value: 0.40733956662391274 and parameters: {'alpha': 0.9505308843823401}. Best is trial 98 with value: 0.4130635995830313.\n"
     ]
    }
   ],
   "source": [
    "def objective_ridge(trial):\n",
    "    alpha = trial.suggest_float(\"alpha\", 0, 1)\n",
    "    \n",
    "    ridge_pipeline = make_pipeline(\n",
    "        RobustScaler(),\n",
    "        Ridge(alpha=alpha, random_state=0)\n",
    "    )\n",
    "    \n",
    "    scores = cross_val_score(ridge_pipeline, X=X_train, y=y_train, cv=5, n_jobs=-1, scoring=r2)\n",
    "    return np.mean(scores)\n",
    "\n",
    "study = optuna.create_study(direction='maximize')\n",
    "study.optimize(objective_ridge, n_trials=100)"
   ]
  },
  {
   "cell_type": "code",
   "execution_count": 59,
   "id": "3b34d9ea",
   "metadata": {},
   "outputs": [],
   "source": [
    "ridge_pipeline = make_pipeline(\n",
    "    RobustScaler(),\n",
    "    Ridge(alpha=study.best_params[\"alpha\"], random_state=0)\n",
    ")"
   ]
  },
  {
   "cell_type": "code",
   "execution_count": 60,
   "id": "7416ccf2",
   "metadata": {},
   "outputs": [
    {
     "name": "stdout",
     "output_type": "stream",
     "text": [
      "Cross-validation score: 0.4130635995830314\n"
     ]
    }
   ],
   "source": [
    "scores = cross_val_score(ridge_pipeline, X_train, y_train, cv=5, scoring=r2)\n",
    "print(f\"Cross-validation score: {np.mean(scores)}\")"
   ]
  },
  {
   "cell_type": "code",
   "execution_count": 61,
   "id": "99325a38",
   "metadata": {},
   "outputs": [
    {
     "name": "stdout",
     "output_type": "stream",
     "text": [
      "Test score: 0.5405781459312688\n"
     ]
    }
   ],
   "source": [
    "ridge_pipeline.fit(X_train, y_train)\n",
    "preds = ridge_pipeline.predict(X_test)\n",
    "print(f\"Test score: {r2_score(y_test, preds)}\")"
   ]
  },
  {
   "cell_type": "code",
   "execution_count": 62,
   "id": "10017c2f",
   "metadata": {},
   "outputs": [
    {
     "data": {
      "text/plain": [
       "{'alpha': 0.999943284101946}"
      ]
     },
     "execution_count": 62,
     "metadata": {},
     "output_type": "execute_result"
    }
   ],
   "source": [
    "study.best_params"
   ]
  },
  {
   "attachments": {},
   "cell_type": "markdown",
   "id": "fba339e8",
   "metadata": {},
   "source": [
    "Optimizing $\\alpha$ with Optuna gives a score of 0.54, which is not enough to beat Lasso and the score we had to beat.\n",
    "\n",
    "### Conclusion\n",
    "\n",
    "Lasso performs the best, with a score of `0.888` on the test set. ElasticNet is close behind with a score of `0.883`. Ridge is not good enough, with a score of `0.54`. A reason why Lasso and ElasticNet perform better than Ridge is that we have a lot of dimensions (100) and few samples (100), so Lasso and ElasticNet are better suited for this kind of problem. Also, Lasso and ElasticNet are very similar, so it's not surprising that they perform equally well."
   ]
  }
 ],
 "metadata": {
  "kernelspec": {
   "display_name": "Python 3 (ipykernel)",
   "language": "python",
   "name": "python3"
  },
  "language_info": {
   "codemirror_mode": {
    "name": "ipython",
    "version": 3
   },
   "file_extension": ".py",
   "mimetype": "text/x-python",
   "name": "python",
   "nbconvert_exporter": "python",
   "pygments_lexer": "ipython3",
   "version": "3.11.3"
  }
 },
 "nbformat": 4,
 "nbformat_minor": 5
}
