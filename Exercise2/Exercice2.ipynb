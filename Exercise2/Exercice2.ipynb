{
 "cells": [
  {
   "attachments": {},
   "cell_type": "markdown",
   "metadata": {},
   "source": [
    "# Question 1"
   ]
  },
  {
   "attachments": {},
   "cell_type": "markdown",
   "metadata": {},
   "source": [
    "\n",
    "Considérons un scénario où un joueur lance un dé. <br>\n",
    "On note X le résultat du dé, ainsi X suit une loi discrète uniforme entre 1 et 6. <br>\n",
    "Ensuite, il dispose de x lancés de dé supplémentaire afin de faire un maximum de 6. <br>\n",
    "On note Y le nombre de 6 obtenus, ainsi Y suit une loi binomial de paramètre (x, 1/6) <br>\n",
    "On utilise la square loss. <br>\n",
    "$ $\n",
    "\\begin{equation}\n",
    "f^* = E[Y|X]\n",
    "\\end{equation}\n",
    "\n",
    "\\begin{equation}\n",
    "\\begin{split}\n",
    "R(f^*) & = E_{(X,Y)~p}[l(Y, f^*(X))] \\\\\n",
    "& = E_X[E_Y[l(y, f^*(x)) | X = x]] \\\\\n",
    "& = E_X[E_Y[(y-\\frac{x}{6})^2 | X = x]] \\\\\n",
    "& = E_X[\\sum_{y = 0}^x (y-\\frac{x}{6})^2 \\binom{x}{y} (\\frac{1}{6})^y (\\frac{5}{6})^{x-y}]\\\\\n",
    "& = \\sum_{x=1}^{6}(\\sum_{y = 0}^x (y-\\frac{x}{6})^2 \\binom{x}{y} (\\frac{1}{6})^y (\\frac{5}{6})^{x-y})P(X=x) \\\\\n",
    "& = \\sum_{x=1}^{6}(\\sum_{y = 0}^x (y-\\frac{x}{6})^2 \\binom{x}{y} (\\frac{1}{6})^y (\\frac{5}{6})^{x-y})\\frac{1}{6}\n",
    "\\end{split}\n",
    "\\end{equation}\n",
    "$$"
   ]
  },
  {
   "attachments": {},
   "cell_type": "markdown",
   "metadata": {},
   "source": [
    "Faisons ce calcul en utilisant python"
   ]
  },
  {
   "cell_type": "code",
   "execution_count": 30,
   "metadata": {},
   "outputs": [
    {
     "name": "stdout",
     "output_type": "stream",
     "text": [
      "Bayes risk : 0.4861111111111111\n"
     ]
    }
   ],
   "source": [
    "import math\n",
    "\n",
    "x_sum = 0\n",
    "for x in range(1, 6+1):\n",
    "    y_sum = 0\n",
    "    for y in range(0, x + 1):\n",
    "        y_sum += (y - x/6)**2 * math.comb(x, y) * (1/6)**y * (5/6)**(x-y)\n",
    "    x_sum += y_sum * (1/6)\n",
    "print(f\"Bayes risk : {x_sum}\")"
   ]
  },
  {
   "attachments": {},
   "cell_type": "markdown",
   "metadata": {},
   "source": [
    "# Question 2 : Bayes estimator and Bayes risk"
   ]
  },
  {
   "attachments": {},
   "cell_type": "markdown",
   "metadata": {},
   "source": [
    "* Rappel des paramètres de l'expérience:\n",
    "    * X est uniformément distribué entre 1 et 6\n",
    "    * Y suit une loi binomial de paramètres (X, 1/6)\n",
    "    * On utilise la squared loss\n",
    "    \n",
    "    \n",
    "* Le risk de Bayes théorique calculé est 0.486"
   ]
  },
  {
   "cell_type": "code",
   "execution_count": 31,
   "metadata": {},
   "outputs": [],
   "source": [
    "import numpy as np\n",
    "\n",
    "rng = np.random.default_rng()"
   ]
  },
  {
   "cell_type": "code",
   "execution_count": 32,
   "metadata": {},
   "outputs": [],
   "source": [
    "# define the loss function\n",
    "def loss(x, y):\n",
    "    return (y - x)**2"
   ]
  },
  {
   "cell_type": "code",
   "execution_count": 33,
   "metadata": {},
   "outputs": [],
   "source": [
    "# generate the data\n",
    "from typing import Tuple\n",
    "\n",
    "\n",
    "def generate_data(n_samples: int) -> Tuple[np.array, np.array]:\n",
    "    \"\"\"\n",
    "    n_samples: number of samples to generate\n",
    "    return: X, Y\n",
    "    \"\"\"\n",
    "    X = rng.integers(1, 7, n_samples)\n",
    "    Y = rng.binomial(X, 1/6)\n",
    "    return X, Y"
   ]
  },
  {
   "cell_type": "code",
   "execution_count": 34,
   "metadata": {},
   "outputs": [],
   "source": [
    "# define the bayes predictor\n",
    "def bayes_predictor(X: np.array) -> np.array:\n",
    "    \"\"\"\n",
    "    It generates the prediction for the bayes predictor which the expected value of Y given X (in the square loss case).\n",
    "    Y is a binomial law so the expected value is np, here n = X and p = 1/6\n",
    "    \"\"\"\n",
    "    return X/6"
   ]
  },
  {
   "cell_type": "code",
   "execution_count": 35,
   "metadata": {},
   "outputs": [],
   "source": [
    "# define a bad estimator to compare results\n",
    "def bad_estimator(X: np.array) -> np.array:\n",
    "    \"\"\"\n",
    "    X: np.array of inputs\n",
    "    Given a set of inputs, return a bad estimator\n",
    "    \"\"\"\n",
    "\n",
    "    return rng.integers(0, 6, size=X.shape[0]) # random estimator"
   ]
  },
  {
   "cell_type": "code",
   "execution_count": 36,
   "metadata": {},
   "outputs": [],
   "source": [
    "# define the empirical risk function\n",
    "def empirical_risk(estimator, loss, X: np.array, Y: np.array) -> float:\n",
    "    \"\"\"\n",
    "    estimator: function that takes X and returns Y\n",
    "    loss: function that takes two values and returns a loss\n",
    "    X: np.array of inputs\n",
    "    Y: np.array of outputs\n",
    "    Given a set of inputs and outputs, return the empirical risk\n",
    "    \"\"\"\n",
    "\n",
    "    Y_pred = estimator(X)\n",
    "    return np.mean(loss(Y, Y_pred))"
   ]
  },
  {
   "attachments": {},
   "cell_type": "markdown",
   "metadata": {},
   "source": [
    "### Run the simulation"
   ]
  },
  {
   "cell_type": "code",
   "execution_count": 37,
   "metadata": {},
   "outputs": [
    {
     "name": "stdout",
     "output_type": "stream",
     "text": [
      "Empirical risk for the bayes predictor:  0.4870844166666667\n",
      "Empirical risk for the bad estimator:  7.16226\n"
     ]
    }
   ],
   "source": [
    "X, Y = generate_data(int(1e6))\n",
    "\n",
    "print(\"Empirical risk for the bayes predictor: \", empirical_risk(bayes_predictor, loss, X, Y))\n",
    "print(\"Empirical risk for the bad estimator: \", empirical_risk(bad_estimator, loss, X, Y))"
   ]
  },
  {
   "attachments": {},
   "cell_type": "markdown",
   "metadata": {},
   "source": [
    "On retrouve bien un risque empirique plus faible pour le prédicteur de bayes qu'un prédicteur random et on retrouve bien la valeur théorique de 0.48 attendue"
   ]
  }
 ],
 "metadata": {
  "kernelspec": {
   "display_name": "Python 3",
   "language": "python",
   "name": "python3"
  },
  "language_info": {
   "codemirror_mode": {
    "name": "ipython",
    "version": 3
   },
   "file_extension": ".py",
   "mimetype": "text/x-python",
   "name": "python",
   "nbconvert_exporter": "python",
   "pygments_lexer": "ipython3",
   "version": "3.9.6"
  },
  "orig_nbformat": 4
 },
 "nbformat": 4,
 "nbformat_minor": 2
}
