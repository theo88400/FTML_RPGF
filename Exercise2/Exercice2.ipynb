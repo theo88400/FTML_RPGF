{
 "cells": [
  {
   "attachments": {},
   "cell_type": "markdown",
   "metadata": {},
   "source": [
    "# Question 1"
   ]
  },
  {
   "attachments": {},
   "cell_type": "markdown",
   "metadata": {},
   "source": [
    "\n",
    "Considérons un scénario où une entreprise recrute des personnes. <br>\n",
    "$\\text{On  note }  X \\in \\{0, 1\\} \\text{ si le candidat a de l'expérience.} \\\\\n",
    "\\text{On note }  Y \\in \\{0, 1\\} \\text{ si le candidat est sélectionné.} $ <br>\n",
    "On suppose que X est uniformément distribué, c'est à dire qu'il y a autant de chance qu'un candidat ait de l'expérience ou qu'il n'en ait pas.\n",
    "Si X = 1, Y suit une loi de Bernouilly de paramètre 0.8 indiquant une probabilité de 80\\% d'être sélectionné. <br>\n",
    "Si X = 0, Y suit une loi de Bernouilly de paramètre 0.3 indiquant une probabilité de 30\\% d'être sélectionné. <br>\n",
    "On prendra la 0-1 loss. <br>\n",
    "Le predicteur de Bayes pour la 0-1 loss est le prédicteur qui prédit la sortie la plus probable dans notre cas c'est égale à la valeur de X.\n",
    "Calculons le risk de Bayes.\n",
    "\n",
    "$ \\begin{equation}\n",
    "\\begin{split}\n",
    "R(f^*) & =E_{(X,Y)~p}[l(Y, f(X))] \\\\\n",
    "& = l(Y, f(X))P(Y=f(X)) + l(Y, f(X))*(Y \\neq f(X)) \\\\\n",
    "& = P(Y \\neq f(X)) \\\\\n",
    "& = P(Y = 1 \\cap f(X) = 0) \\cup P(Y = 0 \\cap f(X) = 1) \\\\\n",
    "& = P((Y \\neq f(X)) \\cap X = 1) + P((Y \\neq f(X)) \\cap X = 0) \\\\\n",
    "& = P((Y \\neq f(X)) | X = 1)P(X = 1) + P((Y \\neq f(X)) | X = 0)P(X = 0) \\\\\n",
    "& = \\frac{1}{2}P(Y = 0 | X = 1) + \\frac{1}{2}P(Y = 1 | X = 0) \\\\\n",
    "& = 0.5 * 0.2 + 0.5 * 0.3 \\\\\n",
    "& = 0.25\n",
    "\\end{split}\n",
    "\\end{equation} $"
   ]
  },
  {
   "attachments": {},
   "cell_type": "markdown",
   "metadata": {},
   "source": [
    "# Question 2 : Bayes estimator and Bayes risk"
   ]
  },
  {
   "attachments": {},
   "cell_type": "markdown",
   "metadata": {},
   "source": [
    "* Rappel des paramètres de l'expérience:\n",
    "    * X est uniformément distribué entre 0 et 1\n",
    "    * Si X = 1, Y suit une loi de Bernouilly de paramètre 0.8\n",
    "    * Si X = 0, Y suit une loi de Bernouilly de paramètre 0.3\n",
    "    * On utilise la 0-1 loss\n",
    "    \n",
    "    \n",
    "* Le risk de Bayes théorique calculé est 0.25"
   ]
  },
  {
   "cell_type": "code",
   "execution_count": 4,
   "metadata": {},
   "outputs": [],
   "source": [
    "import numpy as np\n",
    "\n",
    "rng = np.random.default_rng()"
   ]
  },
  {
   "cell_type": "code",
   "execution_count": 5,
   "metadata": {},
   "outputs": [],
   "source": [
    "# define the loss function\n",
    "def loss(x, y):\n",
    "    if x != y:\n",
    "        return 1\n",
    "    return 0"
   ]
  },
  {
   "cell_type": "code",
   "execution_count": 6,
   "metadata": {},
   "outputs": [],
   "source": [
    "# generate the data\n",
    "from typing import Tuple\n",
    "\n",
    "\n",
    "def generate_data(n_samples: int) -> Tuple[np.array, np.array]:\n",
    "    \"\"\"\n",
    "    n_samples: number of samples to generate\n",
    "    return: X, Y\n",
    "    \"\"\"\n",
    "    X = rng.integers(0, 2, size=n_samples) # generate the input, 0 is no experience, 1 is experience\n",
    "    bernouilly_probability = X.copy().astype(float)\n",
    "    bernouilly_probability[bernouilly_probability == 0] = 0.3 # if the candidate does not have experience, the probability of being selected is 0.3\n",
    "    bernouilly_probability[bernouilly_probability == 1] = 0.8 # if the candidate has experience, the probability of being selected is 0.8\n",
    "    \n",
    "    Y = rng.binomial(1, bernouilly_probability) # generate the output, n = 1 is the same as a bernouilly distribution\n",
    "    return X, Y"
   ]
  },
  {
   "cell_type": "code",
   "execution_count": 7,
   "metadata": {},
   "outputs": [],
   "source": [
    "# define the bayes predictor\n",
    "def bayes_predictor(X: np.array) -> np.array:\n",
    "    \"\"\"\n",
    "    It generates the prediction for the bayes predictor which the most probable value\n",
    "    \"\"\"\n",
    "    return X"
   ]
  },
  {
   "cell_type": "code",
   "execution_count": 8,
   "metadata": {},
   "outputs": [],
   "source": [
    "# define a bad estimator to compare results\n",
    "def bad_estimator(X: np.array) -> np.array:\n",
    "    \"\"\"\n",
    "    X: np.array of inputs\n",
    "    Given a set of inputs, return a bad estimator\n",
    "    \"\"\"\n",
    "\n",
    "    return rng.integers(0, 2, size=X.shape[0]) # random estimator with p = 0.5"
   ]
  },
  {
   "cell_type": "code",
   "execution_count": 9,
   "metadata": {},
   "outputs": [],
   "source": [
    "# define the empirical risk function\n",
    "def empirical_risk(estimator, loss, X: np.array, Y: np.array) -> float:\n",
    "    \"\"\"\n",
    "    estimator: function that takes X and returns Y\n",
    "    loss: function that takes two values and returns a loss\n",
    "    X: np.array of inputs\n",
    "    Y: np.array of outputs\n",
    "    Given a set of inputs and outputs, return the empirical risk\n",
    "    \"\"\"\n",
    "\n",
    "    Y_pred = estimator(X)\n",
    "    return len(np.where(Y - Y_pred)[0]) / len(Y_pred)"
   ]
  },
  {
   "attachments": {},
   "cell_type": "markdown",
   "metadata": {},
   "source": [
    "### Run the simulation"
   ]
  },
  {
   "cell_type": "code",
   "execution_count": 10,
   "metadata": {},
   "outputs": [
    {
     "name": "stdout",
     "output_type": "stream",
     "text": [
      "Empirical risk for the bayes predictor:  0.249915\n",
      "Empirical risk for the bad estimator:  0.499767\n"
     ]
    }
   ],
   "source": [
    "X, Y = generate_data(int(1e6))\n",
    "\n",
    "print(\"Empirical risk for the bayes predictor: \", empirical_risk(bayes_predictor, loss, X, Y))\n",
    "print(\"Empirical risk for the bad estimator: \", empirical_risk(bad_estimator, loss, X, Y))"
   ]
  },
  {
   "attachments": {},
   "cell_type": "markdown",
   "metadata": {},
   "source": [
    "On retrouve bien un risque empirique plus faible pour le prédicteur de bayes qu'un prédicteur random et on retrouve bien la valeur théorique de 0.25 attendue"
   ]
  },
  {
   "attachments": {},
   "cell_type": "markdown",
   "metadata": {},
   "source": []
  }
 ],
 "metadata": {
  "kernelspec": {
   "display_name": "Python 3",
   "language": "python",
   "name": "python3"
  },
  "language_info": {
   "codemirror_mode": {
    "name": "ipython",
    "version": 3
   },
   "file_extension": ".py",
   "mimetype": "text/x-python",
   "name": "python",
   "nbconvert_exporter": "python",
   "pygments_lexer": "ipython3",
   "version": "3.9.6"
  },
  "orig_nbformat": 4
 },
 "nbformat": 4,
 "nbformat_minor": 2
}
