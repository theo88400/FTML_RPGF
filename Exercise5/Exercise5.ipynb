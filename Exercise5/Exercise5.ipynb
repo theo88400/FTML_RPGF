{
 "cells": [
  {
   "cell_type": "code",
   "execution_count": 61,
   "id": "f475e8e0-c679-4b39-9d0a-b360fd906703",
   "metadata": {},
   "outputs": [],
   "source": [
    "import numpy as np\n",
    "import pandas as pd\n",
    "from pathlib import Path\n",
    "from sklearn.linear_model import Lasso, ElasticNet, Ridge\n",
    "from sklearn.model_selection import cross_val_score\n",
    "from sklearn.pipeline import make_pipeline\n",
    "from sklearn.preprocessing import RobustScaler\n",
    "import optuna\n",
    "from sklearn.metrics import (\n",
    "    r2_score,\n",
    "    make_scorer\n",
    ")"
   ]
  },
  {
   "cell_type": "markdown",
   "id": "4c377173-806d-45b8-8efe-c0fd1d6643a6",
   "metadata": {},
   "source": [
    "## Regression\n",
    "\n",
    "- Compare 2 algos\n",
    "- Cross-validation\n",
    "- Explain choice for solvers, hyperparameters\n",
    "- Beat 0.84 on the test set"
   ]
  },
  {
   "cell_type": "code",
   "execution_count": 39,
   "id": "b12dd7cd-b3ca-48b5-9db4-5180dd4773f8",
   "metadata": {},
   "outputs": [],
   "source": [
    "DATA_PATH = Path(\"../data/\")"
   ]
  },
  {
   "cell_type": "code",
   "execution_count": 40,
   "id": "387c606d-fc26-4d22-88c3-5f7cb48c9a93",
   "metadata": {},
   "outputs": [],
   "source": [
    "X_train = np.load(DATA_PATH/\"regression/X_train.npy\")\n",
    "y_train = np.load(DATA_PATH/\"regression/y_train.npy\")\n",
    "X_test = np.load(DATA_PATH/\"regression/X_test.npy\")\n",
    "y_test = np.load(DATA_PATH/\"regression/y_test.npy\")"
   ]
  },
  {
   "cell_type": "code",
   "execution_count": 41,
   "id": "8c2551fd-363c-4fdf-858a-432939333407",
   "metadata": {},
   "outputs": [],
   "source": [
    "r2 = make_scorer(r2_score)"
   ]
  },
  {
   "cell_type": "markdown",
   "id": "ffc98179-ca54-40c7-a58e-c0189b447540",
   "metadata": {},
   "source": [
    "Lasso with alpha optimized on Optuna + random_state=0 => 0.888\n",
    "\n",
    "ElasticNet with alpha + ratio optimized on Optuna + random_state=0 => 0.882\n",
    "\n",
    "Ridge with alpha optimized on Optuna => 0.4"
   ]
  },
  {
   "cell_type": "code",
   "execution_count": 62,
   "id": "769589cb-bd06-4b01-81e1-1142b7199996",
   "metadata": {},
   "outputs": [
    {
     "name": "stderr",
     "output_type": "stream",
     "text": [
      "[I 2023-06-14 14:16:37,520] A new study created in memory with name: no-name-7b51f5ef-62ba-4b29-8ca2-3c3913629f2a\n",
      "[I 2023-06-14 14:16:37,587] Trial 0 finished with value: 0.3894990138872698 and parameters: {'alpha': 0.8137729077791601}. Best is trial 0 with value: 0.3894990138872698.\n",
      "[I 2023-06-14 14:16:37,627] Trial 1 finished with value: 0.3197348468522 and parameters: {'alpha': 0.447876883882666}. Best is trial 0 with value: 0.3894990138872698.\n",
      "[I 2023-06-14 14:16:37,668] Trial 2 finished with value: 0.16283719942579153 and parameters: {'alpha': 0.06457411893863085}. Best is trial 0 with value: 0.3894990138872698.\n",
      "[I 2023-06-14 14:16:37,711] Trial 3 finished with value: 0.3525747666013811 and parameters: {'alpha': 0.5938313634014502}. Best is trial 0 with value: 0.3894990138872698.\n",
      "[I 2023-06-14 14:16:37,752] Trial 4 finished with value: 0.30572201009128247 and parameters: {'alpha': 0.39586472860252286}. Best is trial 0 with value: 0.3894990138872698.\n",
      "[I 2023-06-14 14:16:37,792] Trial 5 finished with value: 0.327637975950618 and parameters: {'alpha': 0.4796768785320338}. Best is trial 0 with value: 0.3894990138872698.\n",
      "[I 2023-06-14 14:16:37,834] Trial 6 finished with value: 0.3324930838654664 and parameters: {'alpha': 0.5001808000059468}. Best is trial 0 with value: 0.3894990138872698.\n",
      "[I 2023-06-14 14:16:37,875] Trial 7 finished with value: 0.35334037093498755 and parameters: {'alpha': 0.5977121706778329}. Best is trial 0 with value: 0.3894990138872698.\n",
      "[I 2023-06-14 14:16:37,918] Trial 8 finished with value: 0.17951793845020222 and parameters: {'alpha': 0.0908587104427171}. Best is trial 0 with value: 0.3894990138872698.\n",
      "[I 2023-06-14 14:16:37,959] Trial 9 finished with value: 0.39481843935301975 and parameters: {'alpha': 0.8520545727124286}. Best is trial 9 with value: 0.39481843935301975.\n",
      "[I 2023-06-14 14:16:38,011] Trial 10 finished with value: 0.41117821738165433 and parameters: {'alpha': 0.9833374158104986}. Best is trial 10 with value: 0.41117821738165433.\n",
      "[I 2023-06-14 14:16:38,059] Trial 11 finished with value: 0.4085380457458555 and parameters: {'alpha': 0.9606324379617779}. Best is trial 10 with value: 0.41117821738165433.\n",
      "[I 2023-06-14 14:16:38,108] Trial 12 finished with value: 0.41204481824627964 and parameters: {'alpha': 0.9909288693631958}. Best is trial 12 with value: 0.41204481824627964.\n",
      "[I 2023-06-14 14:16:38,154] Trial 13 finished with value: 0.41094636750427915 and parameters: {'alpha': 0.9813181849998857}. Best is trial 12 with value: 0.41204481824627964.\n",
      "[I 2023-06-14 14:16:38,414] Trial 14 finished with value: 0.38382770151758105 and parameters: {'alpha': 0.7750455628249295}. Best is trial 12 with value: 0.41204481824627964.\n",
      "[I 2023-06-14 14:16:38,459] Trial 15 finished with value: 0.40986617384996016 and parameters: {'alpha': 0.9719753708917301}. Best is trial 12 with value: 0.41204481824627964.\n",
      "[I 2023-06-14 14:16:38,506] Trial 16 finished with value: 0.3746501270981085 and parameters: {'alpha': 0.7165397014620526}. Best is trial 12 with value: 0.41204481824627964.\n",
      "[I 2023-06-14 14:16:38,552] Trial 17 finished with value: 0.40062963263150675 and parameters: {'alpha': 0.8962183441696595}. Best is trial 12 with value: 0.41204481824627964.\n",
      "[I 2023-06-14 14:16:38,599] Trial 18 finished with value: 0.41238176885963307 and parameters: {'alpha': 0.9938994714649669}. Best is trial 18 with value: 0.41238176885963307.\n",
      "[I 2023-06-14 14:16:38,645] Trial 19 finished with value: 0.3984550776262415 and parameters: {'alpha': 0.8793933261517272}. Best is trial 18 with value: 0.41238176885963307.\n",
      "[I 2023-06-14 14:16:38,691] Trial 20 finished with value: 0.38162291506439705 and parameters: {'alpha': 0.7605370020995732}. Best is trial 18 with value: 0.41238176885963307.\n",
      "[I 2023-06-14 14:16:38,736] Trial 21 finished with value: 0.4126011485569715 and parameters: {'alpha': 0.9958392840499734}. Best is trial 21 with value: 0.4126011485569715.\n",
      "[I 2023-06-14 14:16:38,782] Trial 22 finished with value: 0.3978040691122745 and parameters: {'alpha': 0.8744268534562705}. Best is trial 21 with value: 0.4126011485569715.\n",
      "[I 2023-06-14 14:16:38,828] Trial 23 finished with value: 0.41234681563005837 and parameters: {'alpha': 0.9935908240200344}. Best is trial 21 with value: 0.4126011485569715.\n",
      "[I 2023-06-14 14:16:38,872] Trial 24 finished with value: 0.39848322916211537 and parameters: {'alpha': 0.8796088165481577}. Best is trial 21 with value: 0.4126011485569715.\n",
      "[I 2023-06-14 14:16:38,917] Trial 25 finished with value: 0.4035297173389501 and parameters: {'alpha': 0.919237276739517}. Best is trial 21 with value: 0.4126011485569715.\n",
      "[I 2023-06-14 14:16:38,963] Trial 26 finished with value: 0.3887919510272935 and parameters: {'alpha': 0.8088303887824337}. Best is trial 21 with value: 0.4126011485569715.\n",
      "[I 2023-06-14 14:16:39,008] Trial 27 finished with value: 0.40355263781721656 and parameters: {'alpha': 0.919421913138605}. Best is trial 21 with value: 0.4126011485569715.\n",
      "[I 2023-06-14 14:16:39,056] Trial 28 finished with value: 0.3742764138007176 and parameters: {'alpha': 0.7142592526790836}. Best is trial 21 with value: 0.4126011485569715.\n",
      "[I 2023-06-14 14:16:39,104] Trial 29 finished with value: 0.3899160473567028 and parameters: {'alpha': 0.8167037478598109}. Best is trial 21 with value: 0.4126011485569715.\n",
      "[I 2023-06-14 14:16:39,154] Trial 30 finished with value: 0.4120022161986478 and parameters: {'alpha': 0.9905540409280285}. Best is trial 21 with value: 0.4126011485569715.\n",
      "[I 2023-06-14 14:16:39,200] Trial 31 finished with value: 0.41270751384517823 and parameters: {'alpha': 0.9967814265179652}. Best is trial 31 with value: 0.41270751384517823.\n",
      "[I 2023-06-14 14:16:39,247] Trial 32 finished with value: 0.4030670178944605 and parameters: {'alpha': 0.9155191871717747}. Best is trial 31 with value: 0.41270751384517823.\n",
      "[I 2023-06-14 14:16:39,294] Trial 33 finished with value: 0.41294713674726163 and parameters: {'alpha': 0.9989078319345652}. Best is trial 33 with value: 0.41294713674726163.\n",
      "[I 2023-06-14 14:16:39,345] Trial 34 finished with value: 0.40418566115032234 and parameters: {'alpha': 0.9245383342744125}. Best is trial 33 with value: 0.41294713674726163.\n",
      "[I 2023-06-14 14:16:39,390] Trial 35 finished with value: 0.392737820757753 and parameters: {'alpha': 0.8368462007370985}. Best is trial 33 with value: 0.41294713674726163.\n",
      "[I 2023-06-14 14:16:39,436] Trial 36 finished with value: 0.4046174296991481 and parameters: {'alpha': 0.9280471339415048}. Best is trial 33 with value: 0.41294713674726163.\n",
      "[I 2023-06-14 14:16:39,482] Trial 37 finished with value: 0.39336490738110996 and parameters: {'alpha': 0.8413975465846837}. Best is trial 33 with value: 0.41294713674726163.\n",
      "[I 2023-06-14 14:16:39,527] Trial 38 finished with value: 0.4047316448490436 and parameters: {'alpha': 0.9289779075972079}. Best is trial 33 with value: 0.41294713674726163.\n",
      "[I 2023-06-14 14:16:39,574] Trial 39 finished with value: 0.41299598960086553 and parameters: {'alpha': 0.9993420179882031}. Best is trial 39 with value: 0.41299598960086553.\n",
      "[I 2023-06-14 14:16:39,619] Trial 40 finished with value: 0.3840754339340126 and parameters: {'alpha': 0.7766944372308136}. Best is trial 39 with value: 0.41299598960086553.\n",
      "[I 2023-06-14 14:16:39,665] Trial 41 finished with value: 0.4127958471533302 and parameters: {'alpha': 0.9975646609547454}. Best is trial 39 with value: 0.41299598960086553.\n",
      "[I 2023-06-14 14:16:39,710] Trial 42 finished with value: 0.39692762956346356 and parameters: {'alpha': 0.867791004200819}. Best is trial 39 with value: 0.41299598960086553.\n",
      "[I 2023-06-14 14:16:39,758] Trial 43 finished with value: 0.4067926887115494 and parameters: {'alpha': 0.9459630562897435}. Best is trial 39 with value: 0.41299598960086553.\n",
      "[I 2023-06-14 14:16:39,806] Trial 44 finished with value: 0.4071739143798478 and parameters: {'alpha': 0.9491445309284392}. Best is trial 39 with value: 0.41299598960086553.\n",
      "[I 2023-06-14 14:16:39,851] Trial 45 finished with value: 0.3993405696646849 and parameters: {'alpha': 0.8862004846105526}. Best is trial 39 with value: 0.41299598960086553.\n",
      "[I 2023-06-14 14:16:39,898] Trial 46 finished with value: 0.4123165101181899 and parameters: {'alpha': 0.9933233101932963}. Best is trial 39 with value: 0.41299598960086553.\n",
      "[I 2023-06-14 14:16:39,945] Trial 47 finished with value: 0.4070035300668554 and parameters: {'alpha': 0.9477210558419649}. Best is trial 39 with value: 0.41299598960086553.\n",
      "[I 2023-06-14 14:16:39,993] Trial 48 finished with value: 0.4077818386283522 and parameters: {'alpha': 0.9542439835827536}. Best is trial 39 with value: 0.41299598960086553.\n",
      "[I 2023-06-14 14:16:40,040] Trial 49 finished with value: 0.412780846317205 and parameters: {'alpha': 0.9974315994259667}. Best is trial 39 with value: 0.41299598960086553.\n",
      "[I 2023-06-14 14:16:40,088] Trial 50 finished with value: 0.3926987486474111 and parameters: {'alpha': 0.8365635335657627}. Best is trial 39 with value: 0.41299598960086553.\n",
      "[I 2023-06-14 14:16:40,137] Trial 51 finished with value: 0.4125046879772906 and parameters: {'alpha': 0.9949857962443253}. Best is trial 39 with value: 0.41299598960086553.\n",
      "[I 2023-06-14 14:16:40,185] Trial 52 finished with value: 0.4130590840028866 and parameters: {'alpha': 0.9999031128156214}. Best is trial 52 with value: 0.4130590840028866.\n",
      "[I 2023-06-14 14:16:40,233] Trial 53 finished with value: 0.4076183052142355 and parameters: {'alpha': 0.9528690492639346}. Best is trial 52 with value: 0.4130590840028866.\n",
      "[I 2023-06-14 14:16:40,298] Trial 54 finished with value: 0.40110025762213664 and parameters: {'alpha': 0.899908177590133}. Best is trial 52 with value: 0.4130590840028866.\n",
      "[I 2023-06-14 14:16:40,343] Trial 55 finished with value: 0.40717783944110336 and parameters: {'alpha': 0.9491773524639133}. Best is trial 52 with value: 0.4130590840028866.\n",
      "[I 2023-06-14 14:16:40,390] Trial 56 finished with value: 0.4000941640107575 and parameters: {'alpha': 0.8920412764331043}. Best is trial 52 with value: 0.4130590840028866.\n",
      "[I 2023-06-14 14:16:40,438] Trial 57 finished with value: 0.4094219989065609 and parameters: {'alpha': 0.9681643008244954}. Best is trial 52 with value: 0.4130590840028866.\n",
      "[I 2023-06-14 14:16:40,488] Trial 58 finished with value: 0.3956065013330143 and parameters: {'alpha': 0.8578960919965466}. Best is trial 52 with value: 0.4130590840028866.\n",
      "[I 2023-06-14 14:16:40,536] Trial 59 finished with value: 0.40845412817759164 and parameters: {'alpha': 0.9599210144328891}. Best is trial 52 with value: 0.4130590840028866.\n",
      "[I 2023-06-14 14:16:40,582] Trial 60 finished with value: 0.4027333087460246 and parameters: {'alpha': 0.9128484503784957}. Best is trial 52 with value: 0.4130590840028866.\n",
      "[I 2023-06-14 14:16:40,629] Trial 61 finished with value: 0.4098097802450319 and parameters: {'alpha': 0.9714905221767}. Best is trial 52 with value: 0.4130590840028866.\n",
      "[I 2023-06-14 14:16:40,676] Trial 62 finished with value: 0.4126174109833559 and parameters: {'alpha': 0.995983261176804}. Best is trial 52 with value: 0.4130590840028866.\n",
      "[I 2023-06-14 14:16:40,722] Trial 63 finished with value: 0.4125102984013502 and parameters: {'alpha': 0.9950354135328562}. Best is trial 52 with value: 0.4130590840028866.\n",
      "[I 2023-06-14 14:16:40,771] Trial 64 finished with value: 0.4021147622103527 and parameters: {'alpha': 0.9079219455701065}. Best is trial 52 with value: 0.4130590840028866.\n",
      "[I 2023-06-14 14:16:40,818] Trial 65 finished with value: 0.41282647322981936 and parameters: {'alpha': 0.9978363887489948}. Best is trial 52 with value: 0.4130590840028866.\n",
      "[I 2023-06-14 14:16:40,865] Trial 66 finished with value: 0.39768129582874095 and parameters: {'alpha': 0.8734938199462299}. Best is trial 52 with value: 0.4130590840028866.\n",
      "[I 2023-06-14 14:16:40,915] Trial 67 finished with value: 0.40870565913028656 and parameters: {'alpha': 0.9620552717272823}. Best is trial 52 with value: 0.4130590840028866.\n",
      "[I 2023-06-14 14:16:40,964] Trial 68 finished with value: 0.40501471474899375 and parameters: {'alpha': 0.9312894299511805}. Best is trial 52 with value: 0.4130590840028866.\n",
      "[I 2023-06-14 14:16:41,011] Trial 69 finished with value: 0.400959815810797 and parameters: {'alpha': 0.8988052450075079}. Best is trial 52 with value: 0.4130590840028866.\n",
      "[I 2023-06-14 14:16:41,058] Trial 70 finished with value: 0.409347569974645 and parameters: {'alpha': 0.9675274274363207}. Best is trial 52 with value: 0.4130590840028866.\n",
      "[I 2023-06-14 14:16:41,106] Trial 71 finished with value: 0.4127652417322021 and parameters: {'alpha': 0.9972932050630259}. Best is trial 52 with value: 0.4130590840028866.\n",
      "[I 2023-06-14 14:16:41,154] Trial 72 finished with value: 0.4130637727272152 and parameters: {'alpha': 0.9999448244574423}. Best is trial 72 with value: 0.4130637727272152.\n",
      "[I 2023-06-14 14:16:41,200] Trial 73 finished with value: 0.40536035848845325 and parameters: {'alpha': 0.9341210414256875}. Best is trial 72 with value: 0.4130637727272152.\n",
      "[I 2023-06-14 14:16:41,248] Trial 74 finished with value: 0.4085559587685867 and parameters: {'alpha': 0.9607843789470376}. Best is trial 72 with value: 0.4130637727272152.\n",
      "[I 2023-06-14 14:16:41,296] Trial 75 finished with value: 0.4101339126587444 and parameters: {'alpha': 0.9742812023420203}. Best is trial 72 with value: 0.4130637727272152.\n",
      "[I 2023-06-14 14:16:41,344] Trial 76 finished with value: 0.4052482027624037 and parameters: {'alpha': 0.9332011284299534}. Best is trial 72 with value: 0.4130637727272152.\n",
      "[I 2023-06-14 14:16:41,389] Trial 77 finished with value: 0.4017236779842988 and parameters: {'alpha': 0.9048229723177241}. Best is trial 72 with value: 0.4130637727272152.\n",
      "[I 2023-06-14 14:16:41,438] Trial 78 finished with value: 0.4127346027312043 and parameters: {'alpha': 0.9970215400456552}. Best is trial 72 with value: 0.4130637727272152.\n",
      "[I 2023-06-14 14:16:41,483] Trial 79 finished with value: 0.3956652230189218 and parameters: {'alpha': 0.8583331769953594}. Best is trial 72 with value: 0.4130637727272152.\n",
      "[I 2023-06-14 14:16:41,529] Trial 80 finished with value: 0.4099572747233512 and parameters: {'alpha': 0.9727592253627927}. Best is trial 72 with value: 0.4130637727272152.\n",
      "[I 2023-06-14 14:16:41,578] Trial 81 finished with value: 0.4128680546902704 and parameters: {'alpha': 0.9982054595395}. Best is trial 72 with value: 0.4130637727272152.\n",
      "[I 2023-06-14 14:16:41,626] Trial 82 finished with value: 0.4050301580579667 and parameters: {'alpha': 0.9314157316556828}. Best is trial 72 with value: 0.4130637727272152.\n",
      "[I 2023-06-14 14:16:41,676] Trial 83 finished with value: 0.4128450611417508 and parameters: {'alpha': 0.9980013520283558}. Best is trial 72 with value: 0.4130637727272152.\n",
      "[I 2023-06-14 14:16:41,722] Trial 84 finished with value: 0.4096800946614925 and parameters: {'alpha': 0.9703766283659212}. Best is trial 72 with value: 0.4130637727272152.\n",
      "[I 2023-06-14 14:16:41,769] Trial 85 finished with value: 0.40594782303817106 and parameters: {'alpha': 0.9389568566240257}. Best is trial 72 with value: 0.4130637727272152.\n",
      "[I 2023-06-14 14:16:41,819] Trial 86 finished with value: 0.3991489507315612 and parameters: {'alpha': 0.8847223285567138}. Best is trial 72 with value: 0.4130637727272152.\n",
      "[I 2023-06-14 14:16:41,866] Trial 87 finished with value: 0.40360193530970145 and parameters: {'alpha': 0.9198191762232601}. Best is trial 72 with value: 0.4130637727272152.\n",
      "[I 2023-06-14 14:16:41,914] Trial 88 finished with value: 0.41021426769984737 and parameters: {'alpha': 0.974974507057991}. Best is trial 72 with value: 0.4130637727272152.\n",
      "[I 2023-06-14 14:16:41,963] Trial 89 finished with value: 0.4068886007843539 and parameters: {'alpha': 0.9467622974243294}. Best is trial 72 with value: 0.4130637727272152.\n",
      "[I 2023-06-14 14:16:42,011] Trial 90 finished with value: 0.4013614257804895 and parameters: {'alpha': 0.9019633629780434}. Best is trial 72 with value: 0.4130637727272152.\n",
      "[I 2023-06-14 14:16:42,058] Trial 91 finished with value: 0.41088992509752387 and parameters: {'alpha': 0.9808273641104871}. Best is trial 72 with value: 0.4130637727272152.\n",
      "[I 2023-06-14 14:16:42,110] Trial 92 finished with value: 0.4125835504600849 and parameters: {'alpha': 0.9956835098481542}. Best is trial 72 with value: 0.4130637727272152.\n",
      "[I 2023-06-14 14:16:42,158] Trial 93 finished with value: 0.41283590006360676 and parameters: {'alpha': 0.9979200455602809}. Best is trial 72 with value: 0.4130637727272152.\n",
      "[I 2023-06-14 14:16:42,205] Trial 94 finished with value: 0.40717069150387697 and parameters: {'alpha': 0.9491175820957078}. Best is trial 72 with value: 0.4130637727272152.\n",
      "[I 2023-06-14 14:16:42,254] Trial 95 finished with value: 0.40993775878534855 and parameters: {'alpha': 0.9725912422347861}. Best is trial 72 with value: 0.4130637727272152.\n",
      "[I 2023-06-14 14:16:42,301] Trial 96 finished with value: 0.4035366208566689 and parameters: {'alpha': 0.9192928836372181}. Best is trial 72 with value: 0.4130637727272152.\n",
      "[I 2023-06-14 14:16:42,358] Trial 97 finished with value: 0.40727041137675657 and parameters: {'alpha': 0.9499518304179851}. Best is trial 72 with value: 0.4130637727272152.\n",
      "[I 2023-06-14 14:16:42,407] Trial 98 finished with value: 0.4107767366250165 and parameters: {'alpha': 0.9798439627967477}. Best is trial 72 with value: 0.4130637727272152.\n",
      "[I 2023-06-14 14:16:42,455] Trial 99 finished with value: 0.3979212141865707 and parameters: {'alpha': 0.8753181740392707}. Best is trial 72 with value: 0.4130637727272152.\n"
     ]
    }
   ],
   "source": [
    "def objective(trial):\n",
    "    alpha= trial.suggest_float(\"alpha\", 0, 1)\n",
    "    \n",
    "    reg_pipeline = make_pipeline(\n",
    "        RobustScaler(),\n",
    "        Ridge(alpha=alpha, random_state=0)\n",
    "    )\n",
    "    \n",
    "    scores = cross_val_score(reg_pipeline, X=X_train, y=y_train, cv=5, n_jobs=-1, scoring=r2)\n",
    "    return np.mean(scores)\n",
    "    \n",
    "study = optuna.create_study(direction='maximize')\n",
    "study.optimize(objective, n_trials=100)"
   ]
  },
  {
   "cell_type": "code",
   "execution_count": 64,
   "id": "0bfcd91b-52f4-4646-90b1-5555d5ff0b09",
   "metadata": {},
   "outputs": [
    {
     "data": {
      "application/vnd.plotly.v1+json": {
       "config": {
        "plotlyServerURL": "https://plot.ly"
       },
       "data": [
        {
         "mode": "markers",
         "name": "Objective Value",
         "type": "scatter",
         "x": [
          0,
          1,
          2,
          3,
          4,
          5,
          6,
          7,
          8,
          9,
          10,
          11,
          12,
          13,
          14,
          15,
          16,
          17,
          18,
          19,
          20,
          21,
          22,
          23,
          24,
          25,
          26,
          27,
          28,
          29,
          30,
          31,
          32,
          33,
          34,
          35,
          36,
          37,
          38,
          39,
          40,
          41,
          42,
          43,
          44,
          45,
          46,
          47,
          48,
          49,
          50,
          51,
          52,
          53,
          54,
          55,
          56,
          57,
          58,
          59,
          60,
          61,
          62,
          63,
          64,
          65,
          66,
          67,
          68,
          69,
          70,
          71,
          72,
          73,
          74,
          75,
          76,
          77,
          78,
          79,
          80,
          81,
          82,
          83,
          84,
          85,
          86,
          87,
          88,
          89,
          90,
          91,
          92,
          93,
          94,
          95,
          96,
          97,
          98,
          99
         ],
         "y": [
          0.3894990138872698,
          0.3197348468522,
          0.16283719942579153,
          0.3525747666013811,
          0.30572201009128247,
          0.327637975950618,
          0.3324930838654664,
          0.35334037093498755,
          0.17951793845020222,
          0.39481843935301975,
          0.41117821738165433,
          0.4085380457458555,
          0.41204481824627964,
          0.41094636750427915,
          0.38382770151758105,
          0.40986617384996016,
          0.3746501270981085,
          0.40062963263150675,
          0.41238176885963307,
          0.3984550776262415,
          0.38162291506439705,
          0.4126011485569715,
          0.3978040691122745,
          0.41234681563005837,
          0.39848322916211537,
          0.4035297173389501,
          0.3887919510272935,
          0.40355263781721656,
          0.3742764138007176,
          0.3899160473567028,
          0.4120022161986478,
          0.41270751384517823,
          0.4030670178944605,
          0.41294713674726163,
          0.40418566115032234,
          0.392737820757753,
          0.4046174296991481,
          0.39336490738110996,
          0.4047316448490436,
          0.41299598960086553,
          0.3840754339340126,
          0.4127958471533302,
          0.39692762956346356,
          0.4067926887115494,
          0.4071739143798478,
          0.3993405696646849,
          0.4123165101181899,
          0.4070035300668554,
          0.4077818386283522,
          0.412780846317205,
          0.3926987486474111,
          0.4125046879772906,
          0.4130590840028866,
          0.4076183052142355,
          0.40110025762213664,
          0.40717783944110336,
          0.4000941640107575,
          0.4094219989065609,
          0.3956065013330143,
          0.40845412817759164,
          0.4027333087460246,
          0.4098097802450319,
          0.4126174109833559,
          0.4125102984013502,
          0.4021147622103527,
          0.41282647322981936,
          0.39768129582874095,
          0.40870565913028656,
          0.40501471474899375,
          0.400959815810797,
          0.409347569974645,
          0.4127652417322021,
          0.4130637727272152,
          0.40536035848845325,
          0.4085559587685867,
          0.4101339126587444,
          0.4052482027624037,
          0.4017236779842988,
          0.4127346027312043,
          0.3956652230189218,
          0.4099572747233512,
          0.4128680546902704,
          0.4050301580579667,
          0.4128450611417508,
          0.4096800946614925,
          0.40594782303817106,
          0.3991489507315612,
          0.40360193530970145,
          0.41021426769984737,
          0.4068886007843539,
          0.4013614257804895,
          0.41088992509752387,
          0.4125835504600849,
          0.41283590006360676,
          0.40717069150387697,
          0.40993775878534855,
          0.4035366208566689,
          0.40727041137675657,
          0.4107767366250165,
          0.3979212141865707
         ]
        },
        {
         "name": "Best Value",
         "type": "scatter",
         "x": [
          0,
          1,
          2,
          3,
          4,
          5,
          6,
          7,
          8,
          9,
          10,
          11,
          12,
          13,
          14,
          15,
          16,
          17,
          18,
          19,
          20,
          21,
          22,
          23,
          24,
          25,
          26,
          27,
          28,
          29,
          30,
          31,
          32,
          33,
          34,
          35,
          36,
          37,
          38,
          39,
          40,
          41,
          42,
          43,
          44,
          45,
          46,
          47,
          48,
          49,
          50,
          51,
          52,
          53,
          54,
          55,
          56,
          57,
          58,
          59,
          60,
          61,
          62,
          63,
          64,
          65,
          66,
          67,
          68,
          69,
          70,
          71,
          72,
          73,
          74,
          75,
          76,
          77,
          78,
          79,
          80,
          81,
          82,
          83,
          84,
          85,
          86,
          87,
          88,
          89,
          90,
          91,
          92,
          93,
          94,
          95,
          96,
          97,
          98,
          99
         ],
         "y": [
          0.3894990138872698,
          0.3894990138872698,
          0.3894990138872698,
          0.3894990138872698,
          0.3894990138872698,
          0.3894990138872698,
          0.3894990138872698,
          0.3894990138872698,
          0.3894990138872698,
          0.39481843935301975,
          0.41117821738165433,
          0.41117821738165433,
          0.41204481824627964,
          0.41204481824627964,
          0.41204481824627964,
          0.41204481824627964,
          0.41204481824627964,
          0.41204481824627964,
          0.41238176885963307,
          0.41238176885963307,
          0.41238176885963307,
          0.4126011485569715,
          0.4126011485569715,
          0.4126011485569715,
          0.4126011485569715,
          0.4126011485569715,
          0.4126011485569715,
          0.4126011485569715,
          0.4126011485569715,
          0.4126011485569715,
          0.4126011485569715,
          0.41270751384517823,
          0.41270751384517823,
          0.41294713674726163,
          0.41294713674726163,
          0.41294713674726163,
          0.41294713674726163,
          0.41294713674726163,
          0.41294713674726163,
          0.41299598960086553,
          0.41299598960086553,
          0.41299598960086553,
          0.41299598960086553,
          0.41299598960086553,
          0.41299598960086553,
          0.41299598960086553,
          0.41299598960086553,
          0.41299598960086553,
          0.41299598960086553,
          0.41299598960086553,
          0.41299598960086553,
          0.41299598960086553,
          0.4130590840028866,
          0.4130590840028866,
          0.4130590840028866,
          0.4130590840028866,
          0.4130590840028866,
          0.4130590840028866,
          0.4130590840028866,
          0.4130590840028866,
          0.4130590840028866,
          0.4130590840028866,
          0.4130590840028866,
          0.4130590840028866,
          0.4130590840028866,
          0.4130590840028866,
          0.4130590840028866,
          0.4130590840028866,
          0.4130590840028866,
          0.4130590840028866,
          0.4130590840028866,
          0.4130590840028866,
          0.4130637727272152,
          0.4130637727272152,
          0.4130637727272152,
          0.4130637727272152,
          0.4130637727272152,
          0.4130637727272152,
          0.4130637727272152,
          0.4130637727272152,
          0.4130637727272152,
          0.4130637727272152,
          0.4130637727272152,
          0.4130637727272152,
          0.4130637727272152,
          0.4130637727272152,
          0.4130637727272152,
          0.4130637727272152,
          0.4130637727272152,
          0.4130637727272152,
          0.4130637727272152,
          0.4130637727272152,
          0.4130637727272152,
          0.4130637727272152,
          0.4130637727272152,
          0.4130637727272152,
          0.4130637727272152,
          0.4130637727272152,
          0.4130637727272152,
          0.4130637727272152
         ]
        }
       ],
       "layout": {
        "template": {
         "data": {
          "bar": [
           {
            "error_x": {
             "color": "#2a3f5f"
            },
            "error_y": {
             "color": "#2a3f5f"
            },
            "marker": {
             "line": {
              "color": "#E5ECF6",
              "width": 0.5
             },
             "pattern": {
              "fillmode": "overlay",
              "size": 10,
              "solidity": 0.2
             }
            },
            "type": "bar"
           }
          ],
          "barpolar": [
           {
            "marker": {
             "line": {
              "color": "#E5ECF6",
              "width": 0.5
             },
             "pattern": {
              "fillmode": "overlay",
              "size": 10,
              "solidity": 0.2
             }
            },
            "type": "barpolar"
           }
          ],
          "carpet": [
           {
            "aaxis": {
             "endlinecolor": "#2a3f5f",
             "gridcolor": "white",
             "linecolor": "white",
             "minorgridcolor": "white",
             "startlinecolor": "#2a3f5f"
            },
            "baxis": {
             "endlinecolor": "#2a3f5f",
             "gridcolor": "white",
             "linecolor": "white",
             "minorgridcolor": "white",
             "startlinecolor": "#2a3f5f"
            },
            "type": "carpet"
           }
          ],
          "choropleth": [
           {
            "colorbar": {
             "outlinewidth": 0,
             "ticks": ""
            },
            "type": "choropleth"
           }
          ],
          "contour": [
           {
            "colorbar": {
             "outlinewidth": 0,
             "ticks": ""
            },
            "colorscale": [
             [
              0,
              "#0d0887"
             ],
             [
              0.1111111111111111,
              "#46039f"
             ],
             [
              0.2222222222222222,
              "#7201a8"
             ],
             [
              0.3333333333333333,
              "#9c179e"
             ],
             [
              0.4444444444444444,
              "#bd3786"
             ],
             [
              0.5555555555555556,
              "#d8576b"
             ],
             [
              0.6666666666666666,
              "#ed7953"
             ],
             [
              0.7777777777777778,
              "#fb9f3a"
             ],
             [
              0.8888888888888888,
              "#fdca26"
             ],
             [
              1,
              "#f0f921"
             ]
            ],
            "type": "contour"
           }
          ],
          "contourcarpet": [
           {
            "colorbar": {
             "outlinewidth": 0,
             "ticks": ""
            },
            "type": "contourcarpet"
           }
          ],
          "heatmap": [
           {
            "colorbar": {
             "outlinewidth": 0,
             "ticks": ""
            },
            "colorscale": [
             [
              0,
              "#0d0887"
             ],
             [
              0.1111111111111111,
              "#46039f"
             ],
             [
              0.2222222222222222,
              "#7201a8"
             ],
             [
              0.3333333333333333,
              "#9c179e"
             ],
             [
              0.4444444444444444,
              "#bd3786"
             ],
             [
              0.5555555555555556,
              "#d8576b"
             ],
             [
              0.6666666666666666,
              "#ed7953"
             ],
             [
              0.7777777777777778,
              "#fb9f3a"
             ],
             [
              0.8888888888888888,
              "#fdca26"
             ],
             [
              1,
              "#f0f921"
             ]
            ],
            "type": "heatmap"
           }
          ],
          "heatmapgl": [
           {
            "colorbar": {
             "outlinewidth": 0,
             "ticks": ""
            },
            "colorscale": [
             [
              0,
              "#0d0887"
             ],
             [
              0.1111111111111111,
              "#46039f"
             ],
             [
              0.2222222222222222,
              "#7201a8"
             ],
             [
              0.3333333333333333,
              "#9c179e"
             ],
             [
              0.4444444444444444,
              "#bd3786"
             ],
             [
              0.5555555555555556,
              "#d8576b"
             ],
             [
              0.6666666666666666,
              "#ed7953"
             ],
             [
              0.7777777777777778,
              "#fb9f3a"
             ],
             [
              0.8888888888888888,
              "#fdca26"
             ],
             [
              1,
              "#f0f921"
             ]
            ],
            "type": "heatmapgl"
           }
          ],
          "histogram": [
           {
            "marker": {
             "pattern": {
              "fillmode": "overlay",
              "size": 10,
              "solidity": 0.2
             }
            },
            "type": "histogram"
           }
          ],
          "histogram2d": [
           {
            "colorbar": {
             "outlinewidth": 0,
             "ticks": ""
            },
            "colorscale": [
             [
              0,
              "#0d0887"
             ],
             [
              0.1111111111111111,
              "#46039f"
             ],
             [
              0.2222222222222222,
              "#7201a8"
             ],
             [
              0.3333333333333333,
              "#9c179e"
             ],
             [
              0.4444444444444444,
              "#bd3786"
             ],
             [
              0.5555555555555556,
              "#d8576b"
             ],
             [
              0.6666666666666666,
              "#ed7953"
             ],
             [
              0.7777777777777778,
              "#fb9f3a"
             ],
             [
              0.8888888888888888,
              "#fdca26"
             ],
             [
              1,
              "#f0f921"
             ]
            ],
            "type": "histogram2d"
           }
          ],
          "histogram2dcontour": [
           {
            "colorbar": {
             "outlinewidth": 0,
             "ticks": ""
            },
            "colorscale": [
             [
              0,
              "#0d0887"
             ],
             [
              0.1111111111111111,
              "#46039f"
             ],
             [
              0.2222222222222222,
              "#7201a8"
             ],
             [
              0.3333333333333333,
              "#9c179e"
             ],
             [
              0.4444444444444444,
              "#bd3786"
             ],
             [
              0.5555555555555556,
              "#d8576b"
             ],
             [
              0.6666666666666666,
              "#ed7953"
             ],
             [
              0.7777777777777778,
              "#fb9f3a"
             ],
             [
              0.8888888888888888,
              "#fdca26"
             ],
             [
              1,
              "#f0f921"
             ]
            ],
            "type": "histogram2dcontour"
           }
          ],
          "mesh3d": [
           {
            "colorbar": {
             "outlinewidth": 0,
             "ticks": ""
            },
            "type": "mesh3d"
           }
          ],
          "parcoords": [
           {
            "line": {
             "colorbar": {
              "outlinewidth": 0,
              "ticks": ""
             }
            },
            "type": "parcoords"
           }
          ],
          "pie": [
           {
            "automargin": true,
            "type": "pie"
           }
          ],
          "scatter": [
           {
            "fillpattern": {
             "fillmode": "overlay",
             "size": 10,
             "solidity": 0.2
            },
            "type": "scatter"
           }
          ],
          "scatter3d": [
           {
            "line": {
             "colorbar": {
              "outlinewidth": 0,
              "ticks": ""
             }
            },
            "marker": {
             "colorbar": {
              "outlinewidth": 0,
              "ticks": ""
             }
            },
            "type": "scatter3d"
           }
          ],
          "scattercarpet": [
           {
            "marker": {
             "colorbar": {
              "outlinewidth": 0,
              "ticks": ""
             }
            },
            "type": "scattercarpet"
           }
          ],
          "scattergeo": [
           {
            "marker": {
             "colorbar": {
              "outlinewidth": 0,
              "ticks": ""
             }
            },
            "type": "scattergeo"
           }
          ],
          "scattergl": [
           {
            "marker": {
             "colorbar": {
              "outlinewidth": 0,
              "ticks": ""
             }
            },
            "type": "scattergl"
           }
          ],
          "scattermapbox": [
           {
            "marker": {
             "colorbar": {
              "outlinewidth": 0,
              "ticks": ""
             }
            },
            "type": "scattermapbox"
           }
          ],
          "scatterpolar": [
           {
            "marker": {
             "colorbar": {
              "outlinewidth": 0,
              "ticks": ""
             }
            },
            "type": "scatterpolar"
           }
          ],
          "scatterpolargl": [
           {
            "marker": {
             "colorbar": {
              "outlinewidth": 0,
              "ticks": ""
             }
            },
            "type": "scatterpolargl"
           }
          ],
          "scatterternary": [
           {
            "marker": {
             "colorbar": {
              "outlinewidth": 0,
              "ticks": ""
             }
            },
            "type": "scatterternary"
           }
          ],
          "surface": [
           {
            "colorbar": {
             "outlinewidth": 0,
             "ticks": ""
            },
            "colorscale": [
             [
              0,
              "#0d0887"
             ],
             [
              0.1111111111111111,
              "#46039f"
             ],
             [
              0.2222222222222222,
              "#7201a8"
             ],
             [
              0.3333333333333333,
              "#9c179e"
             ],
             [
              0.4444444444444444,
              "#bd3786"
             ],
             [
              0.5555555555555556,
              "#d8576b"
             ],
             [
              0.6666666666666666,
              "#ed7953"
             ],
             [
              0.7777777777777778,
              "#fb9f3a"
             ],
             [
              0.8888888888888888,
              "#fdca26"
             ],
             [
              1,
              "#f0f921"
             ]
            ],
            "type": "surface"
           }
          ],
          "table": [
           {
            "cells": {
             "fill": {
              "color": "#EBF0F8"
             },
             "line": {
              "color": "white"
             }
            },
            "header": {
             "fill": {
              "color": "#C8D4E3"
             },
             "line": {
              "color": "white"
             }
            },
            "type": "table"
           }
          ]
         },
         "layout": {
          "annotationdefaults": {
           "arrowcolor": "#2a3f5f",
           "arrowhead": 0,
           "arrowwidth": 1
          },
          "autotypenumbers": "strict",
          "coloraxis": {
           "colorbar": {
            "outlinewidth": 0,
            "ticks": ""
           }
          },
          "colorscale": {
           "diverging": [
            [
             0,
             "#8e0152"
            ],
            [
             0.1,
             "#c51b7d"
            ],
            [
             0.2,
             "#de77ae"
            ],
            [
             0.3,
             "#f1b6da"
            ],
            [
             0.4,
             "#fde0ef"
            ],
            [
             0.5,
             "#f7f7f7"
            ],
            [
             0.6,
             "#e6f5d0"
            ],
            [
             0.7,
             "#b8e186"
            ],
            [
             0.8,
             "#7fbc41"
            ],
            [
             0.9,
             "#4d9221"
            ],
            [
             1,
             "#276419"
            ]
           ],
           "sequential": [
            [
             0,
             "#0d0887"
            ],
            [
             0.1111111111111111,
             "#46039f"
            ],
            [
             0.2222222222222222,
             "#7201a8"
            ],
            [
             0.3333333333333333,
             "#9c179e"
            ],
            [
             0.4444444444444444,
             "#bd3786"
            ],
            [
             0.5555555555555556,
             "#d8576b"
            ],
            [
             0.6666666666666666,
             "#ed7953"
            ],
            [
             0.7777777777777778,
             "#fb9f3a"
            ],
            [
             0.8888888888888888,
             "#fdca26"
            ],
            [
             1,
             "#f0f921"
            ]
           ],
           "sequentialminus": [
            [
             0,
             "#0d0887"
            ],
            [
             0.1111111111111111,
             "#46039f"
            ],
            [
             0.2222222222222222,
             "#7201a8"
            ],
            [
             0.3333333333333333,
             "#9c179e"
            ],
            [
             0.4444444444444444,
             "#bd3786"
            ],
            [
             0.5555555555555556,
             "#d8576b"
            ],
            [
             0.6666666666666666,
             "#ed7953"
            ],
            [
             0.7777777777777778,
             "#fb9f3a"
            ],
            [
             0.8888888888888888,
             "#fdca26"
            ],
            [
             1,
             "#f0f921"
            ]
           ]
          },
          "colorway": [
           "#636efa",
           "#EF553B",
           "#00cc96",
           "#ab63fa",
           "#FFA15A",
           "#19d3f3",
           "#FF6692",
           "#B6E880",
           "#FF97FF",
           "#FECB52"
          ],
          "font": {
           "color": "#2a3f5f"
          },
          "geo": {
           "bgcolor": "white",
           "lakecolor": "white",
           "landcolor": "#E5ECF6",
           "showlakes": true,
           "showland": true,
           "subunitcolor": "white"
          },
          "hoverlabel": {
           "align": "left"
          },
          "hovermode": "closest",
          "mapbox": {
           "style": "light"
          },
          "paper_bgcolor": "white",
          "plot_bgcolor": "#E5ECF6",
          "polar": {
           "angularaxis": {
            "gridcolor": "white",
            "linecolor": "white",
            "ticks": ""
           },
           "bgcolor": "#E5ECF6",
           "radialaxis": {
            "gridcolor": "white",
            "linecolor": "white",
            "ticks": ""
           }
          },
          "scene": {
           "xaxis": {
            "backgroundcolor": "#E5ECF6",
            "gridcolor": "white",
            "gridwidth": 2,
            "linecolor": "white",
            "showbackground": true,
            "ticks": "",
            "zerolinecolor": "white"
           },
           "yaxis": {
            "backgroundcolor": "#E5ECF6",
            "gridcolor": "white",
            "gridwidth": 2,
            "linecolor": "white",
            "showbackground": true,
            "ticks": "",
            "zerolinecolor": "white"
           },
           "zaxis": {
            "backgroundcolor": "#E5ECF6",
            "gridcolor": "white",
            "gridwidth": 2,
            "linecolor": "white",
            "showbackground": true,
            "ticks": "",
            "zerolinecolor": "white"
           }
          },
          "shapedefaults": {
           "line": {
            "color": "#2a3f5f"
           }
          },
          "ternary": {
           "aaxis": {
            "gridcolor": "white",
            "linecolor": "white",
            "ticks": ""
           },
           "baxis": {
            "gridcolor": "white",
            "linecolor": "white",
            "ticks": ""
           },
           "bgcolor": "#E5ECF6",
           "caxis": {
            "gridcolor": "white",
            "linecolor": "white",
            "ticks": ""
           }
          },
          "title": {
           "x": 0.05
          },
          "xaxis": {
           "automargin": true,
           "gridcolor": "white",
           "linecolor": "white",
           "ticks": "",
           "title": {
            "standoff": 15
           },
           "zerolinecolor": "white",
           "zerolinewidth": 2
          },
          "yaxis": {
           "automargin": true,
           "gridcolor": "white",
           "linecolor": "white",
           "ticks": "",
           "title": {
            "standoff": 15
           },
           "zerolinecolor": "white",
           "zerolinewidth": 2
          }
         }
        },
        "title": {
         "text": "Optimization History Plot"
        },
        "xaxis": {
         "title": {
          "text": "Trial"
         }
        },
        "yaxis": {
         "title": {
          "text": "Objective Value"
         }
        }
       }
      },
      "text/html": [
       "<div>                            <div id=\"05d101ac-7a0d-4f8d-be64-a544dc0b384c\" class=\"plotly-graph-div\" style=\"height:525px; width:100%;\"></div>            <script type=\"text/javascript\">                require([\"plotly\"], function(Plotly) {                    window.PLOTLYENV=window.PLOTLYENV || {};                                    if (document.getElementById(\"05d101ac-7a0d-4f8d-be64-a544dc0b384c\")) {                    Plotly.newPlot(                        \"05d101ac-7a0d-4f8d-be64-a544dc0b384c\",                        [{\"mode\":\"markers\",\"name\":\"Objective Value\",\"x\":[0,1,2,3,4,5,6,7,8,9,10,11,12,13,14,15,16,17,18,19,20,21,22,23,24,25,26,27,28,29,30,31,32,33,34,35,36,37,38,39,40,41,42,43,44,45,46,47,48,49,50,51,52,53,54,55,56,57,58,59,60,61,62,63,64,65,66,67,68,69,70,71,72,73,74,75,76,77,78,79,80,81,82,83,84,85,86,87,88,89,90,91,92,93,94,95,96,97,98,99],\"y\":[0.3894990138872698,0.3197348468522,0.16283719942579153,0.3525747666013811,0.30572201009128247,0.327637975950618,0.3324930838654664,0.35334037093498755,0.17951793845020222,0.39481843935301975,0.41117821738165433,0.4085380457458555,0.41204481824627964,0.41094636750427915,0.38382770151758105,0.40986617384996016,0.3746501270981085,0.40062963263150675,0.41238176885963307,0.3984550776262415,0.38162291506439705,0.4126011485569715,0.3978040691122745,0.41234681563005837,0.39848322916211537,0.4035297173389501,0.3887919510272935,0.40355263781721656,0.3742764138007176,0.3899160473567028,0.4120022161986478,0.41270751384517823,0.4030670178944605,0.41294713674726163,0.40418566115032234,0.392737820757753,0.4046174296991481,0.39336490738110996,0.4047316448490436,0.41299598960086553,0.3840754339340126,0.4127958471533302,0.39692762956346356,0.4067926887115494,0.4071739143798478,0.3993405696646849,0.4123165101181899,0.4070035300668554,0.4077818386283522,0.412780846317205,0.3926987486474111,0.4125046879772906,0.4130590840028866,0.4076183052142355,0.40110025762213664,0.40717783944110336,0.4000941640107575,0.4094219989065609,0.3956065013330143,0.40845412817759164,0.4027333087460246,0.4098097802450319,0.4126174109833559,0.4125102984013502,0.4021147622103527,0.41282647322981936,0.39768129582874095,0.40870565913028656,0.40501471474899375,0.400959815810797,0.409347569974645,0.4127652417322021,0.4130637727272152,0.40536035848845325,0.4085559587685867,0.4101339126587444,0.4052482027624037,0.4017236779842988,0.4127346027312043,0.3956652230189218,0.4099572747233512,0.4128680546902704,0.4050301580579667,0.4128450611417508,0.4096800946614925,0.40594782303817106,0.3991489507315612,0.40360193530970145,0.41021426769984737,0.4068886007843539,0.4013614257804895,0.41088992509752387,0.4125835504600849,0.41283590006360676,0.40717069150387697,0.40993775878534855,0.4035366208566689,0.40727041137675657,0.4107767366250165,0.3979212141865707],\"type\":\"scatter\"},{\"name\":\"Best Value\",\"x\":[0,1,2,3,4,5,6,7,8,9,10,11,12,13,14,15,16,17,18,19,20,21,22,23,24,25,26,27,28,29,30,31,32,33,34,35,36,37,38,39,40,41,42,43,44,45,46,47,48,49,50,51,52,53,54,55,56,57,58,59,60,61,62,63,64,65,66,67,68,69,70,71,72,73,74,75,76,77,78,79,80,81,82,83,84,85,86,87,88,89,90,91,92,93,94,95,96,97,98,99],\"y\":[0.3894990138872698,0.3894990138872698,0.3894990138872698,0.3894990138872698,0.3894990138872698,0.3894990138872698,0.3894990138872698,0.3894990138872698,0.3894990138872698,0.39481843935301975,0.41117821738165433,0.41117821738165433,0.41204481824627964,0.41204481824627964,0.41204481824627964,0.41204481824627964,0.41204481824627964,0.41204481824627964,0.41238176885963307,0.41238176885963307,0.41238176885963307,0.4126011485569715,0.4126011485569715,0.4126011485569715,0.4126011485569715,0.4126011485569715,0.4126011485569715,0.4126011485569715,0.4126011485569715,0.4126011485569715,0.4126011485569715,0.41270751384517823,0.41270751384517823,0.41294713674726163,0.41294713674726163,0.41294713674726163,0.41294713674726163,0.41294713674726163,0.41294713674726163,0.41299598960086553,0.41299598960086553,0.41299598960086553,0.41299598960086553,0.41299598960086553,0.41299598960086553,0.41299598960086553,0.41299598960086553,0.41299598960086553,0.41299598960086553,0.41299598960086553,0.41299598960086553,0.41299598960086553,0.4130590840028866,0.4130590840028866,0.4130590840028866,0.4130590840028866,0.4130590840028866,0.4130590840028866,0.4130590840028866,0.4130590840028866,0.4130590840028866,0.4130590840028866,0.4130590840028866,0.4130590840028866,0.4130590840028866,0.4130590840028866,0.4130590840028866,0.4130590840028866,0.4130590840028866,0.4130590840028866,0.4130590840028866,0.4130590840028866,0.4130637727272152,0.4130637727272152,0.4130637727272152,0.4130637727272152,0.4130637727272152,0.4130637727272152,0.4130637727272152,0.4130637727272152,0.4130637727272152,0.4130637727272152,0.4130637727272152,0.4130637727272152,0.4130637727272152,0.4130637727272152,0.4130637727272152,0.4130637727272152,0.4130637727272152,0.4130637727272152,0.4130637727272152,0.4130637727272152,0.4130637727272152,0.4130637727272152,0.4130637727272152,0.4130637727272152,0.4130637727272152,0.4130637727272152,0.4130637727272152,0.4130637727272152],\"type\":\"scatter\"}],                        {\"title\":{\"text\":\"Optimization History Plot\"},\"xaxis\":{\"title\":{\"text\":\"Trial\"}},\"yaxis\":{\"title\":{\"text\":\"Objective Value\"}},\"template\":{\"data\":{\"histogram2dcontour\":[{\"type\":\"histogram2dcontour\",\"colorbar\":{\"outlinewidth\":0,\"ticks\":\"\"},\"colorscale\":[[0.0,\"#0d0887\"],[0.1111111111111111,\"#46039f\"],[0.2222222222222222,\"#7201a8\"],[0.3333333333333333,\"#9c179e\"],[0.4444444444444444,\"#bd3786\"],[0.5555555555555556,\"#d8576b\"],[0.6666666666666666,\"#ed7953\"],[0.7777777777777778,\"#fb9f3a\"],[0.8888888888888888,\"#fdca26\"],[1.0,\"#f0f921\"]]}],\"choropleth\":[{\"type\":\"choropleth\",\"colorbar\":{\"outlinewidth\":0,\"ticks\":\"\"}}],\"histogram2d\":[{\"type\":\"histogram2d\",\"colorbar\":{\"outlinewidth\":0,\"ticks\":\"\"},\"colorscale\":[[0.0,\"#0d0887\"],[0.1111111111111111,\"#46039f\"],[0.2222222222222222,\"#7201a8\"],[0.3333333333333333,\"#9c179e\"],[0.4444444444444444,\"#bd3786\"],[0.5555555555555556,\"#d8576b\"],[0.6666666666666666,\"#ed7953\"],[0.7777777777777778,\"#fb9f3a\"],[0.8888888888888888,\"#fdca26\"],[1.0,\"#f0f921\"]]}],\"heatmap\":[{\"type\":\"heatmap\",\"colorbar\":{\"outlinewidth\":0,\"ticks\":\"\"},\"colorscale\":[[0.0,\"#0d0887\"],[0.1111111111111111,\"#46039f\"],[0.2222222222222222,\"#7201a8\"],[0.3333333333333333,\"#9c179e\"],[0.4444444444444444,\"#bd3786\"],[0.5555555555555556,\"#d8576b\"],[0.6666666666666666,\"#ed7953\"],[0.7777777777777778,\"#fb9f3a\"],[0.8888888888888888,\"#fdca26\"],[1.0,\"#f0f921\"]]}],\"heatmapgl\":[{\"type\":\"heatmapgl\",\"colorbar\":{\"outlinewidth\":0,\"ticks\":\"\"},\"colorscale\":[[0.0,\"#0d0887\"],[0.1111111111111111,\"#46039f\"],[0.2222222222222222,\"#7201a8\"],[0.3333333333333333,\"#9c179e\"],[0.4444444444444444,\"#bd3786\"],[0.5555555555555556,\"#d8576b\"],[0.6666666666666666,\"#ed7953\"],[0.7777777777777778,\"#fb9f3a\"],[0.8888888888888888,\"#fdca26\"],[1.0,\"#f0f921\"]]}],\"contourcarpet\":[{\"type\":\"contourcarpet\",\"colorbar\":{\"outlinewidth\":0,\"ticks\":\"\"}}],\"contour\":[{\"type\":\"contour\",\"colorbar\":{\"outlinewidth\":0,\"ticks\":\"\"},\"colorscale\":[[0.0,\"#0d0887\"],[0.1111111111111111,\"#46039f\"],[0.2222222222222222,\"#7201a8\"],[0.3333333333333333,\"#9c179e\"],[0.4444444444444444,\"#bd3786\"],[0.5555555555555556,\"#d8576b\"],[0.6666666666666666,\"#ed7953\"],[0.7777777777777778,\"#fb9f3a\"],[0.8888888888888888,\"#fdca26\"],[1.0,\"#f0f921\"]]}],\"surface\":[{\"type\":\"surface\",\"colorbar\":{\"outlinewidth\":0,\"ticks\":\"\"},\"colorscale\":[[0.0,\"#0d0887\"],[0.1111111111111111,\"#46039f\"],[0.2222222222222222,\"#7201a8\"],[0.3333333333333333,\"#9c179e\"],[0.4444444444444444,\"#bd3786\"],[0.5555555555555556,\"#d8576b\"],[0.6666666666666666,\"#ed7953\"],[0.7777777777777778,\"#fb9f3a\"],[0.8888888888888888,\"#fdca26\"],[1.0,\"#f0f921\"]]}],\"mesh3d\":[{\"type\":\"mesh3d\",\"colorbar\":{\"outlinewidth\":0,\"ticks\":\"\"}}],\"scatter\":[{\"fillpattern\":{\"fillmode\":\"overlay\",\"size\":10,\"solidity\":0.2},\"type\":\"scatter\"}],\"parcoords\":[{\"type\":\"parcoords\",\"line\":{\"colorbar\":{\"outlinewidth\":0,\"ticks\":\"\"}}}],\"scatterpolargl\":[{\"type\":\"scatterpolargl\",\"marker\":{\"colorbar\":{\"outlinewidth\":0,\"ticks\":\"\"}}}],\"bar\":[{\"error_x\":{\"color\":\"#2a3f5f\"},\"error_y\":{\"color\":\"#2a3f5f\"},\"marker\":{\"line\":{\"color\":\"#E5ECF6\",\"width\":0.5},\"pattern\":{\"fillmode\":\"overlay\",\"size\":10,\"solidity\":0.2}},\"type\":\"bar\"}],\"scattergeo\":[{\"type\":\"scattergeo\",\"marker\":{\"colorbar\":{\"outlinewidth\":0,\"ticks\":\"\"}}}],\"scatterpolar\":[{\"type\":\"scatterpolar\",\"marker\":{\"colorbar\":{\"outlinewidth\":0,\"ticks\":\"\"}}}],\"histogram\":[{\"marker\":{\"pattern\":{\"fillmode\":\"overlay\",\"size\":10,\"solidity\":0.2}},\"type\":\"histogram\"}],\"scattergl\":[{\"type\":\"scattergl\",\"marker\":{\"colorbar\":{\"outlinewidth\":0,\"ticks\":\"\"}}}],\"scatter3d\":[{\"type\":\"scatter3d\",\"line\":{\"colorbar\":{\"outlinewidth\":0,\"ticks\":\"\"}},\"marker\":{\"colorbar\":{\"outlinewidth\":0,\"ticks\":\"\"}}}],\"scattermapbox\":[{\"type\":\"scattermapbox\",\"marker\":{\"colorbar\":{\"outlinewidth\":0,\"ticks\":\"\"}}}],\"scatterternary\":[{\"type\":\"scatterternary\",\"marker\":{\"colorbar\":{\"outlinewidth\":0,\"ticks\":\"\"}}}],\"scattercarpet\":[{\"type\":\"scattercarpet\",\"marker\":{\"colorbar\":{\"outlinewidth\":0,\"ticks\":\"\"}}}],\"carpet\":[{\"aaxis\":{\"endlinecolor\":\"#2a3f5f\",\"gridcolor\":\"white\",\"linecolor\":\"white\",\"minorgridcolor\":\"white\",\"startlinecolor\":\"#2a3f5f\"},\"baxis\":{\"endlinecolor\":\"#2a3f5f\",\"gridcolor\":\"white\",\"linecolor\":\"white\",\"minorgridcolor\":\"white\",\"startlinecolor\":\"#2a3f5f\"},\"type\":\"carpet\"}],\"table\":[{\"cells\":{\"fill\":{\"color\":\"#EBF0F8\"},\"line\":{\"color\":\"white\"}},\"header\":{\"fill\":{\"color\":\"#C8D4E3\"},\"line\":{\"color\":\"white\"}},\"type\":\"table\"}],\"barpolar\":[{\"marker\":{\"line\":{\"color\":\"#E5ECF6\",\"width\":0.5},\"pattern\":{\"fillmode\":\"overlay\",\"size\":10,\"solidity\":0.2}},\"type\":\"barpolar\"}],\"pie\":[{\"automargin\":true,\"type\":\"pie\"}]},\"layout\":{\"autotypenumbers\":\"strict\",\"colorway\":[\"#636efa\",\"#EF553B\",\"#00cc96\",\"#ab63fa\",\"#FFA15A\",\"#19d3f3\",\"#FF6692\",\"#B6E880\",\"#FF97FF\",\"#FECB52\"],\"font\":{\"color\":\"#2a3f5f\"},\"hovermode\":\"closest\",\"hoverlabel\":{\"align\":\"left\"},\"paper_bgcolor\":\"white\",\"plot_bgcolor\":\"#E5ECF6\",\"polar\":{\"bgcolor\":\"#E5ECF6\",\"angularaxis\":{\"gridcolor\":\"white\",\"linecolor\":\"white\",\"ticks\":\"\"},\"radialaxis\":{\"gridcolor\":\"white\",\"linecolor\":\"white\",\"ticks\":\"\"}},\"ternary\":{\"bgcolor\":\"#E5ECF6\",\"aaxis\":{\"gridcolor\":\"white\",\"linecolor\":\"white\",\"ticks\":\"\"},\"baxis\":{\"gridcolor\":\"white\",\"linecolor\":\"white\",\"ticks\":\"\"},\"caxis\":{\"gridcolor\":\"white\",\"linecolor\":\"white\",\"ticks\":\"\"}},\"coloraxis\":{\"colorbar\":{\"outlinewidth\":0,\"ticks\":\"\"}},\"colorscale\":{\"sequential\":[[0.0,\"#0d0887\"],[0.1111111111111111,\"#46039f\"],[0.2222222222222222,\"#7201a8\"],[0.3333333333333333,\"#9c179e\"],[0.4444444444444444,\"#bd3786\"],[0.5555555555555556,\"#d8576b\"],[0.6666666666666666,\"#ed7953\"],[0.7777777777777778,\"#fb9f3a\"],[0.8888888888888888,\"#fdca26\"],[1.0,\"#f0f921\"]],\"sequentialminus\":[[0.0,\"#0d0887\"],[0.1111111111111111,\"#46039f\"],[0.2222222222222222,\"#7201a8\"],[0.3333333333333333,\"#9c179e\"],[0.4444444444444444,\"#bd3786\"],[0.5555555555555556,\"#d8576b\"],[0.6666666666666666,\"#ed7953\"],[0.7777777777777778,\"#fb9f3a\"],[0.8888888888888888,\"#fdca26\"],[1.0,\"#f0f921\"]],\"diverging\":[[0,\"#8e0152\"],[0.1,\"#c51b7d\"],[0.2,\"#de77ae\"],[0.3,\"#f1b6da\"],[0.4,\"#fde0ef\"],[0.5,\"#f7f7f7\"],[0.6,\"#e6f5d0\"],[0.7,\"#b8e186\"],[0.8,\"#7fbc41\"],[0.9,\"#4d9221\"],[1,\"#276419\"]]},\"xaxis\":{\"gridcolor\":\"white\",\"linecolor\":\"white\",\"ticks\":\"\",\"title\":{\"standoff\":15},\"zerolinecolor\":\"white\",\"automargin\":true,\"zerolinewidth\":2},\"yaxis\":{\"gridcolor\":\"white\",\"linecolor\":\"white\",\"ticks\":\"\",\"title\":{\"standoff\":15},\"zerolinecolor\":\"white\",\"automargin\":true,\"zerolinewidth\":2},\"scene\":{\"xaxis\":{\"backgroundcolor\":\"#E5ECF6\",\"gridcolor\":\"white\",\"linecolor\":\"white\",\"showbackground\":true,\"ticks\":\"\",\"zerolinecolor\":\"white\",\"gridwidth\":2},\"yaxis\":{\"backgroundcolor\":\"#E5ECF6\",\"gridcolor\":\"white\",\"linecolor\":\"white\",\"showbackground\":true,\"ticks\":\"\",\"zerolinecolor\":\"white\",\"gridwidth\":2},\"zaxis\":{\"backgroundcolor\":\"#E5ECF6\",\"gridcolor\":\"white\",\"linecolor\":\"white\",\"showbackground\":true,\"ticks\":\"\",\"zerolinecolor\":\"white\",\"gridwidth\":2}},\"shapedefaults\":{\"line\":{\"color\":\"#2a3f5f\"}},\"annotationdefaults\":{\"arrowcolor\":\"#2a3f5f\",\"arrowhead\":0,\"arrowwidth\":1},\"geo\":{\"bgcolor\":\"white\",\"landcolor\":\"#E5ECF6\",\"subunitcolor\":\"white\",\"showland\":true,\"showlakes\":true,\"lakecolor\":\"white\"},\"title\":{\"x\":0.05},\"mapbox\":{\"style\":\"light\"}}}},                        {\"responsive\": true}                    ).then(function(){\n",
       "                            \n",
       "var gd = document.getElementById('05d101ac-7a0d-4f8d-be64-a544dc0b384c');\n",
       "var x = new MutationObserver(function (mutations, observer) {{\n",
       "        var display = window.getComputedStyle(gd).display;\n",
       "        if (!display || display === 'none') {{\n",
       "            console.log([gd, 'removed!']);\n",
       "            Plotly.purge(gd);\n",
       "            observer.disconnect();\n",
       "        }}\n",
       "}});\n",
       "\n",
       "// Listen for the removal of the full notebook cells\n",
       "var notebookContainer = gd.closest('#notebook-container');\n",
       "if (notebookContainer) {{\n",
       "    x.observe(notebookContainer, {childList: true});\n",
       "}}\n",
       "\n",
       "// Listen for the clearing of the current output cell\n",
       "var outputEl = gd.closest('.output');\n",
       "if (outputEl) {{\n",
       "    x.observe(outputEl, {childList: true});\n",
       "}}\n",
       "\n",
       "                        })                };                });            </script>        </div>"
      ]
     },
     "metadata": {},
     "output_type": "display_data"
    }
   ],
   "source": [
    "fig = optuna.visualization.plot_optimization_history(study)\n",
    "fig.show()"
   ]
  },
  {
   "cell_type": "code",
   "execution_count": 57,
   "id": "9c93d815-dd1b-4304-a871-1da1ac3f2d89",
   "metadata": {},
   "outputs": [],
   "source": [
    "reg_pipeline = make_pipeline(\n",
    "        RobustScaler(),\n",
    "        ElasticNet(alpha=study.best_params[\"alpha\"], l1_ratio=study.best_params[\"l1_ratio\"], random_state=0)\n",
    ")"
   ]
  },
  {
   "cell_type": "code",
   "execution_count": 58,
   "id": "666446f0-b22f-437f-8090-5ff3f41c9bc0",
   "metadata": {},
   "outputs": [
    {
     "data": {
      "text/html": [
       "<style>#sk-container-id-6 {color: black;background-color: white;}#sk-container-id-6 pre{padding: 0;}#sk-container-id-6 div.sk-toggleable {background-color: white;}#sk-container-id-6 label.sk-toggleable__label {cursor: pointer;display: block;width: 100%;margin-bottom: 0;padding: 0.3em;box-sizing: border-box;text-align: center;}#sk-container-id-6 label.sk-toggleable__label-arrow:before {content: \"▸\";float: left;margin-right: 0.25em;color: #696969;}#sk-container-id-6 label.sk-toggleable__label-arrow:hover:before {color: black;}#sk-container-id-6 div.sk-estimator:hover label.sk-toggleable__label-arrow:before {color: black;}#sk-container-id-6 div.sk-toggleable__content {max-height: 0;max-width: 0;overflow: hidden;text-align: left;background-color: #f0f8ff;}#sk-container-id-6 div.sk-toggleable__content pre {margin: 0.2em;color: black;border-radius: 0.25em;background-color: #f0f8ff;}#sk-container-id-6 input.sk-toggleable__control:checked~div.sk-toggleable__content {max-height: 200px;max-width: 100%;overflow: auto;}#sk-container-id-6 input.sk-toggleable__control:checked~label.sk-toggleable__label-arrow:before {content: \"▾\";}#sk-container-id-6 div.sk-estimator input.sk-toggleable__control:checked~label.sk-toggleable__label {background-color: #d4ebff;}#sk-container-id-6 div.sk-label input.sk-toggleable__control:checked~label.sk-toggleable__label {background-color: #d4ebff;}#sk-container-id-6 input.sk-hidden--visually {border: 0;clip: rect(1px 1px 1px 1px);clip: rect(1px, 1px, 1px, 1px);height: 1px;margin: -1px;overflow: hidden;padding: 0;position: absolute;width: 1px;}#sk-container-id-6 div.sk-estimator {font-family: monospace;background-color: #f0f8ff;border: 1px dotted black;border-radius: 0.25em;box-sizing: border-box;margin-bottom: 0.5em;}#sk-container-id-6 div.sk-estimator:hover {background-color: #d4ebff;}#sk-container-id-6 div.sk-parallel-item::after {content: \"\";width: 100%;border-bottom: 1px solid gray;flex-grow: 1;}#sk-container-id-6 div.sk-label:hover label.sk-toggleable__label {background-color: #d4ebff;}#sk-container-id-6 div.sk-serial::before {content: \"\";position: absolute;border-left: 1px solid gray;box-sizing: border-box;top: 0;bottom: 0;left: 50%;z-index: 0;}#sk-container-id-6 div.sk-serial {display: flex;flex-direction: column;align-items: center;background-color: white;padding-right: 0.2em;padding-left: 0.2em;position: relative;}#sk-container-id-6 div.sk-item {position: relative;z-index: 1;}#sk-container-id-6 div.sk-parallel {display: flex;align-items: stretch;justify-content: center;background-color: white;position: relative;}#sk-container-id-6 div.sk-item::before, #sk-container-id-6 div.sk-parallel-item::before {content: \"\";position: absolute;border-left: 1px solid gray;box-sizing: border-box;top: 0;bottom: 0;left: 50%;z-index: -1;}#sk-container-id-6 div.sk-parallel-item {display: flex;flex-direction: column;z-index: 1;position: relative;background-color: white;}#sk-container-id-6 div.sk-parallel-item:first-child::after {align-self: flex-end;width: 50%;}#sk-container-id-6 div.sk-parallel-item:last-child::after {align-self: flex-start;width: 50%;}#sk-container-id-6 div.sk-parallel-item:only-child::after {width: 0;}#sk-container-id-6 div.sk-dashed-wrapped {border: 1px dashed gray;margin: 0 0.4em 0.5em 0.4em;box-sizing: border-box;padding-bottom: 0.4em;background-color: white;}#sk-container-id-6 div.sk-label label {font-family: monospace;font-weight: bold;display: inline-block;line-height: 1.2em;}#sk-container-id-6 div.sk-label-container {text-align: center;}#sk-container-id-6 div.sk-container {/* jupyter's `normalize.less` sets `[hidden] { display: none; }` but bootstrap.min.css set `[hidden] { display: none !important; }` so we also need the `!important` here to be able to override the default hidden behavior on the sphinx rendered scikit-learn.org. See: https://github.com/scikit-learn/scikit-learn/issues/21755 */display: inline-block !important;position: relative;}#sk-container-id-6 div.sk-text-repr-fallback {display: none;}</style><div id=\"sk-container-id-6\" class=\"sk-top-container\"><div class=\"sk-text-repr-fallback\"><pre>Pipeline(steps=[(&#x27;robustscaler&#x27;, RobustScaler()),\n",
       "                (&#x27;elasticnet&#x27;,\n",
       "                 ElasticNet(alpha=0.018518845767428405,\n",
       "                            l1_ratio=0.7473485731147481, random_state=0))])</pre><b>In a Jupyter environment, please rerun this cell to show the HTML representation or trust the notebook. <br />On GitHub, the HTML representation is unable to render, please try loading this page with nbviewer.org.</b></div><div class=\"sk-container\" hidden><div class=\"sk-item sk-dashed-wrapped\"><div class=\"sk-label-container\"><div class=\"sk-label sk-toggleable\"><input class=\"sk-toggleable__control sk-hidden--visually\" id=\"sk-estimator-id-16\" type=\"checkbox\" ><label for=\"sk-estimator-id-16\" class=\"sk-toggleable__label sk-toggleable__label-arrow\">Pipeline</label><div class=\"sk-toggleable__content\"><pre>Pipeline(steps=[(&#x27;robustscaler&#x27;, RobustScaler()),\n",
       "                (&#x27;elasticnet&#x27;,\n",
       "                 ElasticNet(alpha=0.018518845767428405,\n",
       "                            l1_ratio=0.7473485731147481, random_state=0))])</pre></div></div></div><div class=\"sk-serial\"><div class=\"sk-item\"><div class=\"sk-estimator sk-toggleable\"><input class=\"sk-toggleable__control sk-hidden--visually\" id=\"sk-estimator-id-17\" type=\"checkbox\" ><label for=\"sk-estimator-id-17\" class=\"sk-toggleable__label sk-toggleable__label-arrow\">RobustScaler</label><div class=\"sk-toggleable__content\"><pre>RobustScaler()</pre></div></div></div><div class=\"sk-item\"><div class=\"sk-estimator sk-toggleable\"><input class=\"sk-toggleable__control sk-hidden--visually\" id=\"sk-estimator-id-18\" type=\"checkbox\" ><label for=\"sk-estimator-id-18\" class=\"sk-toggleable__label sk-toggleable__label-arrow\">ElasticNet</label><div class=\"sk-toggleable__content\"><pre>ElasticNet(alpha=0.018518845767428405, l1_ratio=0.7473485731147481,\n",
       "           random_state=0)</pre></div></div></div></div></div></div></div>"
      ],
      "text/plain": [
       "Pipeline(steps=[('robustscaler', RobustScaler()),\n",
       "                ('elasticnet',\n",
       "                 ElasticNet(alpha=0.018518845767428405,\n",
       "                            l1_ratio=0.7473485731147481, random_state=0))])"
      ]
     },
     "execution_count": 58,
     "metadata": {},
     "output_type": "execute_result"
    }
   ],
   "source": [
    "reg_pipeline.fit(X_train, y_train)"
   ]
  },
  {
   "cell_type": "code",
   "execution_count": 59,
   "id": "dccbd8fc-75c0-42a1-9067-c98c8694869f",
   "metadata": {},
   "outputs": [],
   "source": [
    "preds = reg_pipeline.predict(X_test)"
   ]
  },
  {
   "cell_type": "code",
   "execution_count": 60,
   "id": "aba3b5d3-a3f9-400e-a1fe-82392fb82778",
   "metadata": {},
   "outputs": [
    {
     "data": {
      "text/plain": [
       "0.8821484707668852"
      ]
     },
     "execution_count": 60,
     "metadata": {},
     "output_type": "execute_result"
    }
   ],
   "source": [
    "r2_score(y_test, preds)"
   ]
  }
 ],
 "metadata": {
  "kernelspec": {
   "display_name": "Python 3 (ipykernel)",
   "language": "python",
   "name": "python3"
  },
  "language_info": {
   "codemirror_mode": {
    "name": "ipython",
    "version": 3
   },
   "file_extension": ".py",
   "mimetype": "text/x-python",
   "name": "python",
   "nbconvert_exporter": "python",
   "pygments_lexer": "ipython3",
   "version": "3.10.8"
  }
 },
 "nbformat": 4,
 "nbformat_minor": 5
}
